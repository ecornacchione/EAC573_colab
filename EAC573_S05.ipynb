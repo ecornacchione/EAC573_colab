{
  "nbformat": 4,
  "nbformat_minor": 0,
  "metadata": {
    "colab": {
      "name": "Copy of EAC573_S04.ipynb",
      "provenance": [],
      "collapsed_sections": [],
      "authorship_tag": "ABX9TyNntuo1DCMrmxjnXHRbZujy"
    },
    "kernelspec": {
      "name": "python3",
      "display_name": "Python 3"
    },
    "language_info": {
      "name": "python"
    }
  },
  "cells": [
    {
      "cell_type": "markdown",
      "metadata": {
        "id": "dHfoDIG3jJSf"
      },
      "source": [
        "EAC 573 S05 - Python coding in *COLAB*\n",
        "\n",
        "Flow Control"
      ]
    },
    {
      "cell_type": "markdown",
      "metadata": {
        "id": "iBCk9BF2jZAM"
      },
      "source": [
        "Loop Control\n",
        "---\n",
        "Repetition\n",
        "(segments of code)\n",
        "\n",
        "Monitoring (test) expression\n",
        "\n",
        "[Variables or Conditions]\n"
      ]
    },
    {
      "cell_type": "markdown",
      "metadata": {
        "id": "NWKUqIXE_VQA"
      },
      "source": [
        "FOR\n",
        "\n",
        "CONDITION\n",
        "\n",
        "Expression or Test\n",
        "\n",
        "BOOLEAN T or F\n",
        "\n",
        "Actions\n",
        "\n",
        "-----\n",
        "\n",
        "for <variable> in <sequence>:\n",
        "\n",
        "  statements\n",
        "\n",
        "else:\n",
        "\n",
        "  statements\n",
        "\n",
        "\n",
        "  --> CAUTION: indentation!"
      ]
    },
    {
      "cell_type": "markdown",
      "metadata": {
        "id": "dLIc2lI3_0rM"
      },
      "source": [
        "..."
      ]
    },
    {
      "cell_type": "code",
      "metadata": {
        "colab": {
          "base_uri": "https://localhost:8080/"
        },
        "id": "D82flZEr_tHm",
        "outputId": "5d765f63-4ab7-4285-ca88-2279613577c8"
      },
      "source": [
        "# LPBProgram04.py\n",
        "for i in range(5):\n",
        "  print(i)\n",
        "else:\n",
        "  print(\"Over\")"
      ],
      "execution_count": 1,
      "outputs": [
        {
          "output_type": "stream",
          "name": "stdout",
          "text": [
            "0\n",
            "1\n",
            "2\n",
            "3\n",
            "4\n",
            "Over\n"
          ]
        }
      ]
    },
    {
      "cell_type": "code",
      "metadata": {
        "colab": {
          "base_uri": "https://localhost:8080/"
        },
        "id": "hxxkUqPZAG2I",
        "outputId": "7d0bb532-a929-4e08-bc80-5890412196bf"
      },
      "source": [
        "#LPBProgram05.py\n",
        "names = ['Negan','Saul','Peter']\n",
        "for name in names:\n",
        "  print(\"Hello, \", name)\n",
        "else:\n",
        "  print(\"Over\")"
      ],
      "execution_count": 2,
      "outputs": [
        {
          "output_type": "stream",
          "name": "stdout",
          "text": [
            "Hello,  Negan\n",
            "Hello,  Saul\n",
            "Hello,  Peter\n",
            "Over\n"
          ]
        }
      ]
    },
    {
      "cell_type": "markdown",
      "metadata": {
        "id": "4-4NlZ_D1iI_"
      },
      "source": [
        "WHILE\n",
        "\n",
        "CONDITION\n",
        "\n",
        "Expression or Test\n",
        "\n",
        "BOOLEAN T or F\n",
        "\n",
        "Actions"
      ]
    },
    {
      "cell_type": "markdown",
      "metadata": {
        "id": "nGM7kdfd1psi"
      },
      "source": [
        "while <expression>:\n",
        "\n",
        "  statements\n",
        "\n",
        "else:\n",
        "\n",
        "  statements\n",
        "\n",
        "\n",
        "  --> CAUTION: indentation!"
      ]
    },
    {
      "cell_type": "code",
      "metadata": {
        "colab": {
          "base_uri": "https://localhost:8080/"
        },
        "id": "SlU7Ie0UAR1_",
        "outputId": "573ef016-cb13-4fb0-a9ba-6bc2cc330a9c"
      },
      "source": [
        "#LBProgram06.py\n",
        "i = 0\n",
        "while i <=9:\n",
        "  print(i)\n",
        "  i+=1\n"
      ],
      "execution_count": 3,
      "outputs": [
        {
          "output_type": "stream",
          "name": "stdout",
          "text": [
            "0\n",
            "1\n",
            "2\n",
            "3\n",
            "4\n",
            "5\n",
            "6\n",
            "7\n",
            "8\n",
            "9\n"
          ]
        }
      ]
    },
    {
      "cell_type": "code",
      "metadata": {
        "id": "BRkhMA-1AbCd",
        "colab": {
          "base_uri": "https://localhost:8080/"
        },
        "outputId": "f2d5344d-b85f-403e-a550-5cd8668839bb"
      },
      "source": [
        "#LBProgram06b.py - \n",
        "i = 0\n",
        "while i <=9:\n",
        "  print(i)\n",
        "  i+=1\n",
        "else:\n",
        "  print(\"Over\")"
      ],
      "execution_count": 4,
      "outputs": [
        {
          "output_type": "stream",
          "name": "stdout",
          "text": [
            "0\n",
            "1\n",
            "2\n",
            "3\n",
            "4\n",
            "5\n",
            "6\n",
            "7\n",
            "8\n",
            "9\n",
            "Over\n"
          ]
        }
      ]
    },
    {
      "cell_type": "markdown",
      "metadata": {
        "id": "k-30p4e92Ela"
      },
      "source": [
        "CAUTION:\n",
        "\n",
        "INFINITE LOOP (!)"
      ]
    },
    {
      "cell_type": "markdown",
      "metadata": {
        "id": "2i-Sjq4y2KmL"
      },
      "source": [
        "TRY\n",
        "\n",
        "\n",
        "try: <expression>\n",
        "\n",
        " statements\n",
        "\n",
        "except <<expression> as <identifier>>:\n",
        "\n",
        " statements\n",
        "\n",
        "else:\n",
        "\n",
        " statements\n",
        "\n",
        "finally:\n",
        "\n",
        " statements"
      ]
    },
    {
      "cell_type": "code",
      "metadata": {
        "colab": {
          "base_uri": "https://localhost:8080/",
          "height": 201
        },
        "id": "2kzVl6Zd2RxA",
        "outputId": "c51070d9-b106-4090-a523-c18a716d0609"
      },
      "source": [
        "# LPBProgram07.py\n",
        "\n",
        "a=5\n",
        "b=0\n",
        "c=a/b\n"
      ],
      "execution_count": 5,
      "outputs": [
        {
          "output_type": "error",
          "ename": "ZeroDivisionError",
          "evalue": "ignored",
          "traceback": [
            "\u001b[0;31m---------------------------------------------------------------------------\u001b[0m",
            "\u001b[0;31mZeroDivisionError\u001b[0m                         Traceback (most recent call last)",
            "\u001b[0;32m<ipython-input-5-920bd2ea0ef3>\u001b[0m in \u001b[0;36m<module>\u001b[0;34m()\u001b[0m\n\u001b[1;32m      3\u001b[0m \u001b[0ma\u001b[0m\u001b[0;34m=\u001b[0m\u001b[0;36m5\u001b[0m\u001b[0;34m\u001b[0m\u001b[0;34m\u001b[0m\u001b[0m\n\u001b[1;32m      4\u001b[0m \u001b[0mb\u001b[0m\u001b[0;34m=\u001b[0m\u001b[0;36m0\u001b[0m\u001b[0;34m\u001b[0m\u001b[0;34m\u001b[0m\u001b[0m\n\u001b[0;32m----> 5\u001b[0;31m \u001b[0mc\u001b[0m\u001b[0;34m=\u001b[0m\u001b[0ma\u001b[0m\u001b[0;34m/\u001b[0m\u001b[0mb\u001b[0m\u001b[0;34m\u001b[0m\u001b[0;34m\u001b[0m\u001b[0m\n\u001b[0m",
            "\u001b[0;31mZeroDivisionError\u001b[0m: division by zero"
          ]
        }
      ]
    },
    {
      "cell_type": "code",
      "metadata": {
        "colab": {
          "base_uri": "https://localhost:8080/"
        },
        "id": "7sQ9bxsm2a9h",
        "outputId": "00ab17e6-f34e-48a3-eb33-50266f6caeb2"
      },
      "source": [
        "# LPBProgram07.py\n",
        "\n",
        "a=5\n",
        "b=0  # try with 0 and then 1\n",
        "\n",
        "try:\n",
        "  c=a/b\n",
        "except:\n",
        "  print(\"Error\")\n",
        "else:\n",
        "  print(c)"
      ],
      "execution_count": 8,
      "outputs": [
        {
          "output_type": "stream",
          "name": "stdout",
          "text": [
            "Error\n"
          ]
        }
      ]
    },
    {
      "cell_type": "code",
      "metadata": {
        "colab": {
          "base_uri": "https://localhost:8080/"
        },
        "id": "5RwcrBq1AEr5",
        "outputId": "21914f47-dec9-4e2d-ed4c-c863f19b2aa9"
      },
      "source": [
        "# LPBProgram03.py\n",
        "# write it again giving the user 3 attempts\n",
        "\n",
        "import random\n",
        "nRandom = random.randint(0,9)\n",
        "nUser = int(input(\"Inform a number from 0 to 9:\"))\n",
        "if nUser == nRandom:\n",
        "  print(\"Got it!\")\n",
        "else:\n",
        "  print(\"try again...\")\n",
        "\n",
        "print(nUser, \"and\", nRandom)\n"
      ],
      "execution_count": 9,
      "outputs": [
        {
          "output_type": "stream",
          "name": "stdout",
          "text": [
            "Inform a number from 0 to 9:4\n",
            "try again...\n",
            "4 and 8\n"
          ]
        }
      ]
    },
    {
      "cell_type": "markdown",
      "metadata": {
        "id": "66sQephR6yL6"
      },
      "source": [
        "-Program-Exercise 11 (pe11.py)\n",
        "\n",
        "With a sequence from zero to a given user input of an\n",
        "integer, indicate (yes/no) if each number is a multiple of 3.\n",
        "\n",
        "-Program-Exercise 12 (pe12.py)\n",
        "\n",
        "Return the Fibonacci sequence, from zero to\n",
        "a given user input of a number (integer)\n",
        "\n",
        "-Program-Exercise 13 (pe13.py)\n",
        "\n",
        "Calculate the golden ratio,\n",
        "based on the ratio of two successive Fibonacci numbers\n",
        "(the first of them as an input from the user)\n",
        "\n",
        "-Program-Exercise 14 (pe14.py)\n",
        "\n",
        "Prime number check, given user input of a number\n",
        "(integer) as the maximum to be checked\n",
        "\n",
        "-Program-Exercise 15 (pe15.py)\n",
        "\n",
        "Calculate the Retirement Yearly Payments in USD,\n",
        "given user input of:\n",
        "\n",
        "[1] Current Age (in years, as integer)\n",
        "\n",
        "[2] Planned Age for Retirement (in years, as integer)\n",
        "\n",
        "[3] Number of years of retirement payments back (integer)\n",
        "\n",
        "[4] Amount of retirement investment in USD as today (float)\n",
        "\n",
        "[5] Planned Yearly investment in USD\n",
        "\n",
        "[6] Assumed yearly interest rate (float)"
      ]
    }
  ]
}