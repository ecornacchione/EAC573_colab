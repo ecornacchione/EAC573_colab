{
  "nbformat": 4,
  "nbformat_minor": 0,
  "metadata": {
    "colab": {
      "name": "EAC573_S10.ipynb",
      "provenance": [],
      "collapsed_sections": [],
      "authorship_tag": "ABX9TyNFEWivBZrlQIfOO/mwlnOf"
    },
    "kernelspec": {
      "name": "python3",
      "display_name": "Python 3"
    },
    "language_info": {
      "name": "python"
    }
  },
  "cells": [
    {
      "cell_type": "markdown",
      "metadata": {
        "id": "-xxbVPtp8JNW"
      },
      "source": [
        "EAC 573 S09 - Python coding in COLAB\n",
        "\n",
        "Databases & Queries\n",
        "\n",
        "DATA\n",
        "\n",
        "from LIST to TUPLE to DICTIONARY\n"
      ]
    },
    {
      "cell_type": "code",
      "metadata": {
        "id": "TqbfJmvT8Bh9",
        "colab": {
          "base_uri": "https://localhost:8080/"
        },
        "outputId": "8a2d704a-f4ac-4b34-cc0f-723dee34f672"
      },
      "source": [
        "# Data: List & Tuple\n",
        "myList = [1, 2, 3, 4]\n",
        "print(myList[1])\n",
        "\n",
        "myTuple = (5, 6, 7, 8)  # static / cannot change values\n",
        "print(myTuple[1])\n",
        "\n",
        "otherTuple = tuple(myList)    # tranform - from list to tuple\n",
        "print(otherTuple[3])"
      ],
      "execution_count": 1,
      "outputs": [
        {
          "output_type": "stream",
          "name": "stdout",
          "text": [
            "2\n",
            "6\n",
            "4\n"
          ]
        }
      ]
    },
    {
      "cell_type": "code",
      "metadata": {
        "colab": {
          "base_uri": "https://localhost:8080/"
        },
        "id": "x00zSujG996w",
        "outputId": "4c537324-7a1d-4f9a-adaf-a21c01a99639"
      },
      "source": [
        "# Data: Dictionary\n",
        "\n",
        "myDict = {'Account': 'Cash', 'Code': 100, 'DxC': 'D'}\n",
        "print(myDict)\n",
        "print(myDict.keys())\n",
        "print(myDict['Code'])\n",
        "myDict.clear()"
      ],
      "execution_count": 2,
      "outputs": [
        {
          "output_type": "stream",
          "name": "stdout",
          "text": [
            "{'Account': 'Cash', 'Code': 100, 'DxC': 'D'}\n",
            "dict_keys(['Account', 'Code', 'DxC'])\n",
            "100\n"
          ]
        }
      ]
    },
    {
      "cell_type": "markdown",
      "metadata": {
        "id": "mB-UtF3vA_f_"
      },
      "source": [
        ""
      ]
    },
    {
      "cell_type": "markdown",
      "metadata": {
        "id": "r5rmHu9hA__K"
      },
      "source": [
        "SciPy.org\n",
        "\n",
        "PANDAS\n"
      ]
    },
    {
      "cell_type": "code",
      "metadata": {
        "colab": {
          "base_uri": "https://localhost:8080/"
        },
        "id": "ikZlcgjd_LSQ",
        "outputId": "8fca8a63-a170-4fc1-d529-bfc152236e0c"
      },
      "source": [
        "# Data: PANDAS\n",
        "# LPBProgram27.py\n",
        "dict = {\"country\": [\"Brazil\", \"Russia\", \"India\", \"China\", \"South Africa\"],\n",
        " \"capital\": [\"Brasilia\", \"Moscow\", \"New Delhi\", \"Beijing\", \"Pretoria\"],\n",
        " \"area\": [8.516, 17.10, 3.286, 9.597, 1.221],\n",
        " \"population\": [200.4, 143.5, 1252, 1357, 52.98] }\n",
        "import pandas as pd\n",
        "brics = pd.DataFrame(dict)\n",
        "list(brics)\n",
        "print(brics)\n"
      ],
      "execution_count": 3,
      "outputs": [
        {
          "output_type": "stream",
          "name": "stdout",
          "text": [
            "        country    capital    area  population\n",
            "0        Brazil   Brasilia   8.516      200.40\n",
            "1        Russia     Moscow  17.100      143.50\n",
            "2         India  New Delhi   3.286     1252.00\n",
            "3         China    Beijing   9.597     1357.00\n",
            "4  South Africa   Pretoria   1.221       52.98\n"
          ]
        }
      ]
    },
    {
      "cell_type": "code",
      "metadata": {
        "colab": {
          "base_uri": "https://localhost:8080/",
          "height": 204
        },
        "id": "mt0XELNi_f-v",
        "outputId": "60f5f30e-7925-4f30-8b91-cd09eeff79fd"
      },
      "source": [
        "brics\n"
      ],
      "execution_count": 4,
      "outputs": [
        {
          "output_type": "execute_result",
          "data": {
            "text/html": [
              "<div>\n",
              "<style scoped>\n",
              "    .dataframe tbody tr th:only-of-type {\n",
              "        vertical-align: middle;\n",
              "    }\n",
              "\n",
              "    .dataframe tbody tr th {\n",
              "        vertical-align: top;\n",
              "    }\n",
              "\n",
              "    .dataframe thead th {\n",
              "        text-align: right;\n",
              "    }\n",
              "</style>\n",
              "<table border=\"1\" class=\"dataframe\">\n",
              "  <thead>\n",
              "    <tr style=\"text-align: right;\">\n",
              "      <th></th>\n",
              "      <th>country</th>\n",
              "      <th>capital</th>\n",
              "      <th>area</th>\n",
              "      <th>population</th>\n",
              "    </tr>\n",
              "  </thead>\n",
              "  <tbody>\n",
              "    <tr>\n",
              "      <th>0</th>\n",
              "      <td>Brazil</td>\n",
              "      <td>Brasilia</td>\n",
              "      <td>8.516</td>\n",
              "      <td>200.40</td>\n",
              "    </tr>\n",
              "    <tr>\n",
              "      <th>1</th>\n",
              "      <td>Russia</td>\n",
              "      <td>Moscow</td>\n",
              "      <td>17.100</td>\n",
              "      <td>143.50</td>\n",
              "    </tr>\n",
              "    <tr>\n",
              "      <th>2</th>\n",
              "      <td>India</td>\n",
              "      <td>New Delhi</td>\n",
              "      <td>3.286</td>\n",
              "      <td>1252.00</td>\n",
              "    </tr>\n",
              "    <tr>\n",
              "      <th>3</th>\n",
              "      <td>China</td>\n",
              "      <td>Beijing</td>\n",
              "      <td>9.597</td>\n",
              "      <td>1357.00</td>\n",
              "    </tr>\n",
              "    <tr>\n",
              "      <th>4</th>\n",
              "      <td>South Africa</td>\n",
              "      <td>Pretoria</td>\n",
              "      <td>1.221</td>\n",
              "      <td>52.98</td>\n",
              "    </tr>\n",
              "  </tbody>\n",
              "</table>\n",
              "</div>"
            ],
            "text/plain": [
              "        country    capital    area  population\n",
              "0        Brazil   Brasilia   8.516      200.40\n",
              "1        Russia     Moscow  17.100      143.50\n",
              "2         India  New Delhi   3.286     1252.00\n",
              "3         China    Beijing   9.597     1357.00\n",
              "4  South Africa   Pretoria   1.221       52.98"
            ]
          },
          "metadata": {},
          "execution_count": 4
        }
      ]
    },
    {
      "cell_type": "code",
      "metadata": {
        "colab": {
          "base_uri": "https://localhost:8080/"
        },
        "id": "A3u1d5h2_zzQ",
        "outputId": "6bc6584d-0187-481c-f8b6-f27941f873a9"
      },
      "source": [
        "brics.area\n"
      ],
      "execution_count": 5,
      "outputs": [
        {
          "output_type": "execute_result",
          "data": {
            "text/plain": [
              "0     8.516\n",
              "1    17.100\n",
              "2     3.286\n",
              "3     9.597\n",
              "4     1.221\n",
              "Name: area, dtype: float64"
            ]
          },
          "metadata": {},
          "execution_count": 5
        }
      ]
    },
    {
      "cell_type": "code",
      "metadata": {
        "colab": {
          "base_uri": "https://localhost:8080/"
        },
        "id": "Js-SvNW5_xLo",
        "outputId": "85a83814-31ce-4e3c-8294-988261c205c4"
      },
      "source": [
        "brics.iloc[2]"
      ],
      "execution_count": 6,
      "outputs": [
        {
          "output_type": "execute_result",
          "data": {
            "text/plain": [
              "country           India\n",
              "capital       New Delhi\n",
              "area              3.286\n",
              "population         1252\n",
              "Name: 2, dtype: object"
            ]
          },
          "metadata": {},
          "execution_count": 6
        }
      ]
    },
    {
      "cell_type": "markdown",
      "metadata": {
        "id": "cHLdtFT3BIaN"
      },
      "source": [
        "# SQL\n",
        "\n",
        "Structured Query Language\n",
        "\n",
        "DDL - Data Definition Language\n",
        "\n",
        "DML - Data Manipulation Language\n",
        "\n",
        "DCL - Data Control Language\n",
        "\n",
        "TCL - Transaction Control Language"
      ]
    },
    {
      "cell_type": "markdown",
      "metadata": {
        "id": "NxndNotLBnmH"
      },
      "source": [
        "DB Server\n",
        "\n",
        "Oracle, MySQL, PostGres, DB2, MS SQL, Sybase ...\n",
        "\n",
        "Firebase, SQLite...\n",
        "\n",
        "\n",
        "Connection\n",
        "\n",
        "Cursor\n",
        "\n",
        "Database\n",
        "\n",
        "Table"
      ]
    },
    {
      "cell_type": "markdown",
      "metadata": {
        "id": "TUebLGuzE54K"
      },
      "source": [
        "# SQLite3 "
      ]
    },
    {
      "cell_type": "code",
      "metadata": {
        "id": "rd2OeC2A7kcE"
      },
      "source": [
        "# LPB Databases\n",
        "# SQLLite3\n",
        "##################### Connection (Colab Cloud)\n",
        "\n",
        "import sqlite3\n",
        "\n",
        "conn = sqlite3.connect('eac573a.db')   # create and connect to the db file\n",
        "\n",
        "conn.close()"
      ],
      "execution_count": 8,
      "outputs": []
    },
    {
      "cell_type": "code",
      "metadata": {
        "colab": {
          "base_uri": "https://localhost:8080/"
        },
        "id": "8EjZ32v1CBfX",
        "outputId": "da2f6992-14c5-4d35-d4e4-5da97daf4721"
      },
      "source": [
        "# LPB Databases\n",
        "# SQLLite3\n",
        "##################### Check for tables in DB / Connection\n",
        "import sqlite3\n",
        "conn = sqlite3.connect('eac573a.db')   # create and connect to the db file\n",
        "\n",
        "sql = '''\n",
        "SELECT name FROM sqlite_master WHERE TYPE = \"table\";\n",
        "'''\n",
        "cursor = conn.execute(sql)\n",
        "\n",
        "#print(list(cursor.fetchall()))\n",
        "\n",
        "# OR\n",
        "\n",
        "for row in cursor:\n",
        "  print(row)\n",
        "\n",
        "conn.close()"
      ],
      "execution_count": 9,
      "outputs": [
        {
          "output_type": "stream",
          "name": "stdout",
          "text": [
            "('T101',)\n"
          ]
        }
      ]
    },
    {
      "cell_type": "code",
      "metadata": {
        "colab": {
          "base_uri": "https://localhost:8080/"
        },
        "id": "P8zQHTMBCABm",
        "outputId": "f657da8e-ef55-419e-f5c7-7355948392fb"
      },
      "source": [
        "# LPB Databases\n",
        "# SQLLite3\n",
        "##################### CREATE TABLE\n",
        "\n",
        "import sqlite3\n",
        "conn = sqlite3.connect('eac573a.db')   # create and connect to the db file\n",
        "\n",
        "sql = '''\n",
        "  CREATE TABLE T101 (\n",
        "  CODE INT NOT NULL PRIMARY KEY,\n",
        "  NAME CHAR(20),\n",
        "  AGE INT,\n",
        "  GENDER CHAR(1),\n",
        "  INCOME FLOAT);\n",
        "'''\n",
        "\n",
        "conn.execute(sql)\n",
        "conn.close"
      ],
      "execution_count": 12,
      "outputs": [
        {
          "output_type": "execute_result",
          "data": {
            "text/plain": [
              "<function Connection.close>"
            ]
          },
          "metadata": {},
          "execution_count": 12
        }
      ]
    },
    {
      "cell_type": "code",
      "metadata": {
        "id": "y41YDYLLCAhb"
      },
      "source": [
        "# LPB Databases\n",
        "# SQLLite3\n",
        "##################### DROP TABLE\n",
        "\n",
        "import sqlite3\n",
        "conn = sqlite3.connect('eac573a.db')   # create and connect to the db file\n",
        "\n",
        "sql = '''\n",
        "  DROP TABLE T101 ;\n",
        "'''\n",
        "\n",
        "conn.execute(sql)\n",
        "conn.close()"
      ],
      "execution_count": 11,
      "outputs": []
    },
    {
      "cell_type": "code",
      "metadata": {
        "id": "ej4QQRZ7HlVY"
      },
      "source": [
        ""
      ],
      "execution_count": null,
      "outputs": []
    },
    {
      "cell_type": "code",
      "metadata": {
        "colab": {
          "base_uri": "https://localhost:8080/"
        },
        "id": "CEDXBH3mCA5z",
        "outputId": "45dc25d2-89a8-4498-da51-ab51a2768106"
      },
      "source": [
        "# LPB Databases\n",
        "# SQLLite3\n",
        "##################### CREATE TABLE\n",
        "import sqlite3\n",
        "conn = sqlite3.connect('eac573a.db')   # create and connect to the db file\n",
        "\n",
        "# USE \"IF NOT EXISTS\" to avoid error\n",
        "#  CREATE TABLE IF NOT EXISTS T101 (\n",
        "\n",
        "\n",
        "sql = '''\n",
        "  CREATE TABLE IF NOT EXISTS T101 (\n",
        "  CODE INT NOT NULL PRIMARY KEY,\n",
        "  NAME CHAR(20),\n",
        "  AGE INT,\n",
        "  GENDER CHAR(1),\n",
        "  INCOME FLOAT);\n",
        "'''\n",
        "\n",
        "conn.execute(sql)\n",
        "\n",
        "\n",
        "conn.close"
      ],
      "execution_count": 13,
      "outputs": [
        {
          "output_type": "execute_result",
          "data": {
            "text/plain": [
              "<function Connection.close>"
            ]
          },
          "metadata": {},
          "execution_count": 13
        }
      ]
    },
    {
      "cell_type": "code",
      "metadata": {
        "colab": {
          "base_uri": "https://localhost:8080/"
        },
        "id": "PTBWW0NKBzDz",
        "outputId": "99aa4269-1e01-4242-fd53-d1233eb3f79a"
      },
      "source": [
        "# LPB Databases\n",
        "# SQLLite3\n",
        "##################### PRAGMA (DESC TABLE)\n",
        "# cid, name, type, not null/1, default, PK\n",
        "\n",
        "import sqlite3\n",
        "conn = sqlite3.connect('eac573a.db')   # create and connect to the db file\n",
        "\n",
        "sql = '''\n",
        "  PRAGMA table_info(\"T101\");\n",
        "'''\n",
        "\n",
        "cursor = conn.execute(sql)\n",
        "\n",
        "#print(list(cursor.fetchall()))\n",
        "\n",
        "# OR\n",
        "\n",
        "for row in cursor:\n",
        "  print(row)\n",
        "\n",
        "\n",
        "conn.close()"
      ],
      "execution_count": 14,
      "outputs": [
        {
          "output_type": "stream",
          "name": "stdout",
          "text": [
            "(0, 'CODE', 'INT', 1, None, 1)\n",
            "(1, 'NAME', 'CHAR(20)', 0, None, 0)\n",
            "(2, 'AGE', 'INT', 0, None, 0)\n",
            "(3, 'GENDER', 'CHAR(1)', 0, None, 0)\n",
            "(4, 'INCOME', 'FLOAT', 0, None, 0)\n"
          ]
        }
      ]
    },
    {
      "cell_type": "code",
      "metadata": {
        "id": "63-jOtiOBqqh"
      },
      "source": [
        "# LPB Databases\n",
        "# SQLLite3\n",
        "##################### INSERT\n",
        "\n",
        "import sqlite3\n",
        "conn = sqlite3.connect('eac573a.db')   # create and connect to the db file\n",
        "\n",
        "sql = '''\n",
        "INSERT INTO T101 VALUES\n",
        "(1, \"Brian May\", 55, \"M\", 100000);\n",
        "'''\n",
        "conn.execute(sql)\n",
        "\n",
        "sql = '''\n",
        "INSERT INTO T101 VALUES\n",
        "(2, \"Peter June\", 66, \"M\", 200000);\n",
        "'''\n",
        "conn.execute(sql)\n",
        "\n",
        "sql = '''\n",
        "INSERT INTO T101 VALUES\n",
        "(3, \"Tina July\", 77, \"F\", 300000);\n",
        "'''\n",
        "conn.execute(sql)\n",
        "\n",
        "\n",
        "sql = '''\n",
        "INSERT INTO T101 VALUES\n",
        "(4, \"Tricia August\", 88, \"F\", 400000);\n",
        "'''\n",
        "conn.execute(sql)\n",
        "\n",
        "conn.commit()\n",
        "conn.close()"
      ],
      "execution_count": 15,
      "outputs": []
    },
    {
      "cell_type": "code",
      "metadata": {
        "colab": {
          "base_uri": "https://localhost:8080/"
        },
        "id": "h8qzAKSJBgqL",
        "outputId": "bea11000-52c1-424a-f753-ad00b8ca230e"
      },
      "source": [
        "# LPB Databases\n",
        "# SQLLite3\n",
        "##################### SELECT\n",
        "\n",
        "import sqlite3\n",
        "conn = sqlite3.connect('eac573a.db')   # create and connect to the db file\n",
        "\n",
        "sql = '''\n",
        "  SELECT * FROM T101;\n",
        "'''\n",
        "\n",
        "cursor = conn.execute(sql)\n",
        "\n",
        "#print(list(cursor.fetchall()))\n",
        "\n",
        "# OR\n",
        "\n",
        "for row in cursor:\n",
        "  print(row)\n",
        "\n",
        "\n",
        "conn.close()"
      ],
      "execution_count": 16,
      "outputs": [
        {
          "output_type": "stream",
          "name": "stdout",
          "text": [
            "(1, 'Brian May', 55, 'M', 100000.0)\n",
            "(2, 'Peter June', 66, 'M', 200000.0)\n",
            "(3, 'Tina July', 77, 'F', 300000.0)\n",
            "(4, 'Tricia August', 88, 'F', 400000.0)\n"
          ]
        }
      ]
    },
    {
      "cell_type": "markdown",
      "metadata": {
        "id": "lcTz97v4JKR0"
      },
      "source": [
        "# SQL Statements to try out...\n",
        "#a \n",
        "select * from T101 where income > 200000;\n",
        "#b \n",
        "select * from T101 where gender =\"M\";\n",
        "#c \n",
        "select name from T101;\n",
        "#d \n",
        "select name from T101 order by income desc;\n",
        "#e \n",
        "select avg(income) from T101;\n"
      ]
    },
    {
      "cell_type": "code",
      "metadata": {
        "colab": {
          "base_uri": "https://localhost:8080/"
        },
        "id": "g7oUy70ABJ8P",
        "outputId": "d2a287d9-f6c0-46e6-a32c-282e1edbe82b"
      },
      "source": [
        "# LPB Databases\n",
        "# SQLLite3\n",
        "##################### SELECT --try out-- [a]\n",
        "\n",
        "import sqlite3\n",
        "conn = sqlite3.connect('eac573a.db')   # create and connect to the db file\n",
        "\n",
        "\n",
        "sql_a = '''\n",
        "select * from T101 where income > 200000;\n",
        "'''\n",
        "\n",
        "sql_b = '''\n",
        "select * from T101 where gender =\"M\";\n",
        "'''\n",
        "\n",
        "sql_c = '''\n",
        "select name from T101;\n",
        "'''\n",
        "\n",
        "sql_d = '''\n",
        "select name from T101 order by income desc;\n",
        "'''\n",
        "\n",
        "sql_e = '''\n",
        "select avg(income) from T101;\n",
        "'''\n",
        "\n",
        "\n",
        "cursor = conn.execute(sql_a)  ## select the statement\n",
        "\n",
        "for row in cursor:\n",
        "  print(row)\n",
        "\n",
        "conn.close()"
      ],
      "execution_count": 23,
      "outputs": [
        {
          "output_type": "stream",
          "name": "stdout",
          "text": [
            "(3, 'Tina July', 77, 'F', 300000.0)\n",
            "(4, 'Tricia August', 88, 'F', 400000.0)\n"
          ]
        }
      ]
    },
    {
      "cell_type": "code",
      "metadata": {
        "id": "qdfwF-4oJwSg"
      },
      "source": [
        ""
      ],
      "execution_count": null,
      "outputs": []
    },
    {
      "cell_type": "code",
      "metadata": {
        "id": "Vw_PgIwHDcuk"
      },
      "source": [
        ""
      ],
      "execution_count": null,
      "outputs": []
    },
    {
      "cell_type": "markdown",
      "metadata": {
        "id": "uh5-1nrbKI1I"
      },
      "source": [
        "#Program-Exercise 31 (pe31.py)\n",
        "# (revision of this class)\n",
        "\n",
        "Create a program linked to SQLite3 to\n",
        "\n",
        "(a) DROP (existing) TABLE T101, \n",
        "\n",
        "(b) CREATE (if it does not exist) T101,\n",
        "\n",
        "(c) INSERT values, \n",
        "\n",
        "(d) SELECT DATA, and\n",
        "\n",
        "(e) print all FETCHED data (as loop)\n",
        "\n"
      ]
    }
  ]
}