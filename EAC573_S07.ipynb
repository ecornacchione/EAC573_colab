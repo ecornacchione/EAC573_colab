{
  "nbformat": 4,
  "nbformat_minor": 0,
  "metadata": {
    "colab": {
      "name": "EAC573_S07.ipynb",
      "provenance": [],
      "collapsed_sections": [],
      "authorship_tag": "ABX9TyOX7drkVrHLDULghpcWIa9u"
    },
    "kernelspec": {
      "name": "python3",
      "display_name": "Python 3"
    },
    "language_info": {
      "name": "python"
    }
  },
  "cells": [
    {
      "cell_type": "markdown",
      "metadata": {
        "id": "dHfoDIG3jJSf"
      },
      "source": [
        "EAC 573 S07 - Python coding in *COLAB*\n",
        "\n",
        "Classes, Objects, Attributes and Methods"
      ]
    },
    {
      "cell_type": "markdown",
      "metadata": {
        "id": "iBCk9BF2jZAM"
      },
      "source": [
        "Classes\n",
        "---\n",
        "Object-Oriented Paradigm\n",
        "\n",
        "Block of code\n",
        "\n",
        "Reuse... instance\n",
        "\n",
        "Inheritance\n",
        "\n",
        "Attributes\n",
        "\n",
        "Methods\n"
      ]
    },
    {
      "cell_type": "markdown",
      "metadata": {
        "id": "dLIc2lI3_0rM"
      },
      "source": [
        "CLASS\n",
        "\n",
        "class ClassName:\n",
        "\n",
        "  statements\n",
        "\n",
        "\n",
        "[Caution: Indentation!]"
      ]
    },
    {
      "cell_type": "code",
      "metadata": {
        "id": "D82flZEr_tHm"
      },
      "source": [
        "# LPBProgram13.py\n",
        "class MyClass:\n",
        "  \"My First Class\"\n",
        "  pi = 3.14\n",
        "  def f(self):\n",
        "    return(\"Hello World!\")"
      ],
      "execution_count": 1,
      "outputs": []
    },
    {
      "cell_type": "code",
      "metadata": {
        "id": "srDo6Wreb2c3"
      },
      "source": [
        "x = MyClass.pi"
      ],
      "execution_count": 2,
      "outputs": []
    },
    {
      "cell_type": "code",
      "metadata": {
        "colab": {
          "base_uri": "https://localhost:8080/"
        },
        "id": "OVI01-WTcEJ4",
        "outputId": "83fb95aa-2518-4bdc-84bc-f926a762ba8f"
      },
      "source": [
        "print(x)"
      ],
      "execution_count": 3,
      "outputs": [
        {
          "output_type": "stream",
          "name": "stdout",
          "text": [
            "3.14\n"
          ]
        }
      ]
    },
    {
      "cell_type": "code",
      "metadata": {
        "id": "hxxkUqPZAG2I"
      },
      "source": [
        "x = MyClass()"
      ],
      "execution_count": 4,
      "outputs": []
    },
    {
      "cell_type": "code",
      "metadata": {
        "colab": {
          "base_uri": "https://localhost:8080/"
        },
        "id": "C1n_IqmrJSZo",
        "outputId": "09a5bd0d-f11c-44c1-825f-5981ae621248"
      },
      "source": [
        "print(x.f())"
      ],
      "execution_count": 5,
      "outputs": [
        {
          "output_type": "stream",
          "name": "stdout",
          "text": [
            "Hello World!\n"
          ]
        }
      ]
    },
    {
      "cell_type": "code",
      "metadata": {
        "colab": {
          "base_uri": "https://localhost:8080/"
        },
        "id": "cD78aNiIIzmP",
        "outputId": "50df1f06-2e14-4402-a893-1939bc46fe74"
      },
      "source": [
        "print(x.pi)"
      ],
      "execution_count": 6,
      "outputs": [
        {
          "output_type": "stream",
          "name": "stdout",
          "text": [
            "3.14\n"
          ]
        }
      ]
    },
    {
      "cell_type": "code",
      "metadata": {
        "id": "SlU7Ie0UAR1_"
      },
      "source": [
        "#LBProgram14.py\n",
        "class Employee:\n",
        "  \"Employee Class\"  \n",
        "  empCount = 0\n",
        "\n",
        "  def __init__(self, name, salary):\n",
        "    self.name = name\n",
        "    self.salary = salary\n",
        "    Employee.empCount += 1\n",
        "\n",
        "  def displayCount(self):\n",
        "    print(\"Total employee %d\" %  Employee.empCount)\n",
        "\n",
        "  def displayEmployee(self):\n",
        "    print(\"Name: \", self.name, \", Salary: \", self.salary)\n",
        "  "
      ],
      "execution_count": 7,
      "outputs": []
    },
    {
      "cell_type": "code",
      "metadata": {
        "id": "BRkhMA-1AbCd",
        "colab": {
          "base_uri": "https://localhost:8080/"
        },
        "outputId": "57ade906-ed6f-4bef-cddd-fcf79e5a3f04"
      },
      "source": [
        "x = Employee(\"Barry\", 100)\n",
        "x.displayCount()"
      ],
      "execution_count": 8,
      "outputs": [
        {
          "output_type": "stream",
          "name": "stdout",
          "text": [
            "Total employee 1\n"
          ]
        }
      ]
    },
    {
      "cell_type": "code",
      "metadata": {
        "id": "GPp-6gt8YXeF",
        "colab": {
          "base_uri": "https://localhost:8080/"
        },
        "outputId": "d5ba0d32-91d6-4b8a-dcd4-426d6ff4b6e6"
      },
      "source": [
        "y = Employee(\"Lara\", 200)\n",
        "y.displayCount()\n",
        "x.displayCount()\n",
        "print(Employee.empCount)"
      ],
      "execution_count": 9,
      "outputs": [
        {
          "output_type": "stream",
          "name": "stdout",
          "text": [
            "Total employee 2\n",
            "Total employee 2\n",
            "2\n"
          ]
        }
      ]
    },
    {
      "cell_type": "code",
      "metadata": {
        "colab": {
          "base_uri": "https://localhost:8080/"
        },
        "id": "Aw5j6cq3YxhH",
        "outputId": "85400d9b-4c75-4871-d19a-83327aa36c8b"
      },
      "source": [
        "x.displayEmployee()\n",
        "y.displayEmployee()\n",
        "print(x.salary)"
      ],
      "execution_count": 10,
      "outputs": [
        {
          "output_type": "stream",
          "name": "stdout",
          "text": [
            "Name:  Barry , Salary:  100\n",
            "Name:  Lara , Salary:  200\n",
            "100\n"
          ]
        }
      ]
    },
    {
      "cell_type": "code",
      "metadata": {
        "id": "2kzVl6Zd2RxA"
      },
      "source": [
        "# CSV files\n",
        "# upload  AccBatch.txt file to COLAB (under FILES)\n",
        "import csv \n",
        "with open(\"AccBatch.txt\", \"rt\") as f:\n",
        "  reader = csv.reader(f)     # it will read all as string\n",
        "  myList = list(reader)"
      ],
      "execution_count": 17,
      "outputs": []
    },
    {
      "cell_type": "code",
      "metadata": {
        "colab": {
          "base_uri": "https://localhost:8080/"
        },
        "id": "R8AMryMgKOEt",
        "outputId": "0124a002-6491-41aa-b4ff-2476d22c015f"
      },
      "source": [
        "myList"
      ],
      "execution_count": 18,
      "outputs": [
        {
          "output_type": "execute_result",
          "data": {
            "text/plain": [
              "[['00001', ' 100.00', ' \"Barry\"', ' \"1230001\"'],\n",
              " ['00002', ' 200.00', ' \"Lara\"', ' \"1230002\"'],\n",
              " ['00003', ' 300.00', ' \"Chris\"', ' \"1230003\"'],\n",
              " ['00004', ' 400.00', ' \"Luke\"', ' \"1230004\"'],\n",
              " ['00005', ' 500.00', ' \"Walton\"', ' \"1230005\"']]"
            ]
          },
          "metadata": {},
          "execution_count": 18
        }
      ]
    },
    {
      "cell_type": "markdown",
      "metadata": {
        "id": "66sQephR6yL6"
      },
      "source": [
        "-Program-Exercise 21 (pe21.py)\n",
        "\n",
        "Create a Class (with its attributes and methods) for a simple Bank System (use array or list for the accounts)\n",
        "\n",
        "Class\t \t \t Account\t\n",
        "\n",
        "Attributes   Account\tNumber\t\t \t \t \t \t   (str,\t5\tdigits)\n",
        "\t \t \t \t     Account\tBalance\t\t\t \t \t \t \t (float)\n",
        "\t \t \t \t \t   Customer\tName\t\t\t\t \t \t \t \t (str,\t30\tcharacters)\n",
        "   \t    \t \t Customer\tTaxPayerNumber\t     (str,\t7\tdigits)\n",
        "\n",
        "Methods\t\t   Open\tthe\taccount\t \t \t \t \t \t\t  OpenAccount\t(init)\n",
        "\t \t \t \t \t   Get\tthe\tcurrent\tbalance\t \t \t\tGetBalance\t\n",
        "\t \t \t \t \t   Deposit\tto\tthe\taccount\t \t \t \tDeposit\t\n",
        "\t \t \t \t \t   Withdraw\tfrom\tthe\taccount\t\t\tWithdraw\t\n",
        "\t \t \t \t \t   Report\taccount\tstatus\t \t \t \t\tReportStatus\n",
        "\n",
        "\n",
        "-Program-Exercise 22 (pe22.py)\n",
        "\n",
        "Create a program that uses the class Account (import from pe21.py) and create all accounts based on this file (“AccBatch.txt”)\n",
        "\n",
        "\"00001\", 100.00, \"Barry\", \"1230001\"\n",
        "\n",
        "\"00002\", 200.00, \"Lara\", \"1230002\"\n",
        "\n",
        "\"00003\", 300.00, \"Chris\", \"1230003\"\n",
        "\n",
        "\"00004\", 400.00, \"Luke\", \"1230004\"\n",
        "\n",
        "\"00005\", 500.00, \"Walton\", \"1230005\" \n",
        "\n",
        "\n",
        "-Program-Exercise 23 (pe23.py)\n",
        "\n",
        "Expand program 22 (keep it), now adding a solution to process all entries based on this file (“Acc0525.txt”)\n",
        "\n",
        "\"deposit\", 00001, 1100.00\n",
        "\n",
        "\"deposit\", 00003, 1300.00\n",
        "\n",
        "\"deposit\", 00005, 1500.00\n",
        "\n",
        "\"withdraw\", 00001, 400.00\n",
        "\n",
        "\"withdraw\", 00002, 50.00\n",
        "\n",
        "and report current balances of all accounts\n",
        "\n",
        "\n",
        "-Program-Exercise 24 (pe24.py)\n",
        "\n",
        "Expand program 23 (keep it), now adding a solution to process & write the Current Account Status to this file (“AccStatus0525.txt”)\n",
        "\n",
        "Account Number, Account Balance, Customer Name and Customer TaxPayerNumber\n",
        "\n"
      ]
    }
  ]
}