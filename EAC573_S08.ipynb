{
  "nbformat": 4,
  "nbformat_minor": 0,
  "metadata": {
    "colab": {
      "name": "EAC573_S08.ipynb",
      "provenance": [],
      "collapsed_sections": [],
      "authorship_tag": "ABX9TyPwUHd11D8oBPzn5GMz3hm4"
    },
    "kernelspec": {
      "name": "python3",
      "display_name": "Python 3"
    },
    "language_info": {
      "name": "python"
    }
  },
  "cells": [
    {
      "cell_type": "markdown",
      "metadata": {
        "id": "dHfoDIG3jJSf"
      },
      "source": [
        "EAC 573 S08 - Python coding in *COLAB*\n",
        "\n",
        "Libraries, Modules and Packages"
      ]
    },
    {
      "cell_type": "markdown",
      "metadata": {
        "id": "iBCk9BF2jZAM"
      },
      "source": [
        "Packages\n",
        "---\n",
        "Module\n",
        "\n",
        ".py\n",
        "\n",
        "\n",
        "Package\n",
        "\n",
        "directory (__init__.py),\n",
        "\n",
        "*.py\n",
        "\n",
        "\n",
        "Library\n",
        "\n",
        "Collection of core modules"
      ]
    },
    {
      "cell_type": "markdown",
      "metadata": {
        "id": "dLIc2lI3_0rM"
      },
      "source": [
        "Python Library Reference\n",
        "\n",
        "Python Core\n",
        "\n",
        "check, Rossum 2016 (Chapters 10 & 11)\n",
        "\n",
        "\n"
      ]
    },
    {
      "cell_type": "markdown",
      "metadata": {
        "id": "fQD89iASBbMc"
      },
      "source": [
        "Python Package Index\n",
        "\n",
        "Over 100k packages\n",
        "\n",
        "Easy to browse\n",
        "\n",
        "Easy to install (pip)\n",
        "\n",
        "$pip install <>\n"
      ]
    },
    {
      "cell_type": "code",
      "metadata": {
        "colab": {
          "base_uri": "https://localhost:8080/"
        },
        "id": "DrvF68KCBmTH",
        "outputId": "fcd46798-c678-4995-cd3e-973f793db9f1"
      },
      "source": [
        "! pip install googlefinance\n"
      ],
      "execution_count": 6,
      "outputs": [
        {
          "output_type": "stream",
          "name": "stdout",
          "text": [
            "Collecting googlefinance\n",
            "  Downloading googlefinance-0.7.tar.gz (2.5 kB)\n",
            "Building wheels for collected packages: googlefinance\n",
            "  Building wheel for googlefinance (setup.py) ... \u001b[?25l\u001b[?25hdone\n",
            "  Created wheel for googlefinance: filename=googlefinance-0.7-py3-none-any.whl size=2583 sha256=7a88c267089dcc5b4b1acd362696c84cb0ab304bbe29e2929e1de4bffca4766b\n",
            "  Stored in directory: /root/.cache/pip/wheels/50/bd/64/b32b38aebd40e333f615ae9e28003e88d5629e377e4f4a8a00\n",
            "Successfully built googlefinance\n",
            "Installing collected packages: googlefinance\n",
            "Successfully installed googlefinance-0.7\n"
          ]
        }
      ]
    },
    {
      "cell_type": "code",
      "metadata": {
        "id": "R0JEwuA6CH--"
      },
      "source": [
        "#import googlefinance\n",
        "#a=googlefinance.getQuotes('AAPL') \n"
      ],
      "execution_count": 58,
      "outputs": []
    },
    {
      "cell_type": "markdown",
      "metadata": {
        "id": "oDShb6wdFhnJ"
      },
      "source": [
        "Python Package Index (PyPI)"
      ]
    },
    {
      "cell_type": "code",
      "metadata": {
        "id": "D82flZEr_tHm",
        "colab": {
          "base_uri": "https://localhost:8080/"
        },
        "outputId": "b8e49f55-2f9e-4dfc-b8a1-a4637514313f"
      },
      "source": [
        "# LPBProgram15.py\n",
        "from datetime import date\n",
        "now = date.today()\n",
        "print(now)\n",
        "birthday = date(1977,7,7)\n",
        "age = now - birthday\n",
        "print(age)\n",
        "print(age.days)"
      ],
      "execution_count": 18,
      "outputs": [
        {
          "output_type": "stream",
          "name": "stdout",
          "text": [
            "2021-10-27\n",
            "16183 days, 0:00:00\n",
            "16183\n"
          ]
        }
      ]
    },
    {
      "cell_type": "code",
      "metadata": {
        "id": "srDo6Wreb2c3",
        "colab": {
          "base_uri": "https://localhost:8080/"
        },
        "outputId": "713c98f3-663d-4eff-a498-ee527b136148"
      },
      "source": [
        "# LPBProgram16.py\n",
        "import time\n",
        "a = time.time()\n",
        "print(time.ctime())\n",
        "b=time.time()\n",
        "print(time.ctime())\n",
        "print(b-a)"
      ],
      "execution_count": 21,
      "outputs": [
        {
          "output_type": "stream",
          "name": "stdout",
          "text": [
            "Wed Oct 27 18:54:33 2021\n",
            "Wed Oct 27 18:54:33 2021\n",
            "0.0014946460723876953\n"
          ]
        }
      ]
    },
    {
      "cell_type": "code",
      "metadata": {
        "colab": {
          "base_uri": "https://localhost:8080/"
        },
        "id": "OVI01-WTcEJ4",
        "outputId": "dabdf4a6-ccfc-4d1d-c85f-28ac656ae65b"
      },
      "source": [
        "# LPBProgram17.py\n",
        "import random\n",
        "fruit = random.choice([\"apple\", \"pear\", \"banana\"])\n",
        "print(fruit)\n",
        "print(random.sample(range(100,10),0))\n",
        "print(random.random())\n",
        "print(random.randrange(7))"
      ],
      "execution_count": 32,
      "outputs": [
        {
          "output_type": "stream",
          "name": "stdout",
          "text": [
            "apple\n",
            "[]\n",
            "0.9648478210061261\n",
            "6\n"
          ]
        }
      ]
    },
    {
      "cell_type": "code",
      "metadata": {
        "id": "SlU7Ie0UAR1_",
        "colab": {
          "base_uri": "https://localhost:8080/"
        },
        "outputId": "35f8a818-dfa1-4d5e-93b9-35412a9af4ff"
      },
      "source": [
        "#LPBProgram18.py\n",
        "from math import e, pi, exp, pow\n",
        "print(e)\n",
        "print(pi)\n",
        "print(exp(3))\n",
        "print(pow(2,3))"
      ],
      "execution_count": 33,
      "outputs": [
        {
          "output_type": "stream",
          "name": "stdout",
          "text": [
            "2.718281828459045\n",
            "3.141592653589793\n",
            "20.085536923187668\n",
            "8.0\n"
          ]
        }
      ]
    },
    {
      "cell_type": "code",
      "metadata": {
        "id": "BRkhMA-1AbCd",
        "colab": {
          "base_uri": "https://localhost:8080/"
        },
        "outputId": "14b25121-4547-4fc7-e155-68cfc23f67bc"
      },
      "source": [
        "#LPBProgram19.py\n",
        "import urllib\n",
        "response = urllib.request.urlopen(\"http://www.google.com\")\n",
        "#print(response.info())\n",
        "html=response.read()\n",
        "print(html)"
      ],
      "execution_count": 40,
      "outputs": [
        {
          "output_type": "stream",
          "name": "stdout",
          "text": [
            "b'<!doctype html><html itemscope=\"\" itemtype=\"http://schema.org/WebPage\" lang=\"en\"><head><meta content=\"Search the world\\'s information, including webpages, images, videos and more. Google has many special features to help you find exactly what you\\'re looking for.\" name=\"description\"><meta content=\"noodp\" name=\"robots\"><meta content=\"text/html; charset=UTF-8\" http-equiv=\"Content-Type\"><meta content=\"/images/branding/googleg/1x/googleg_standard_color_128dp.png\" itemprop=\"image\"><title>Google</title><script nonce=\"8qqv2ksR4lkY6Pgyo2PoIw==\">(function(){window.google={kEI:\\'RaZ5YbPfGZPdtQaBm4Mw\\',kEXPI:\\'0,1302477,59,56873,6059,206,4804,2316,383,246,5,1354,4936,314,1122516,1197762,450,189,328866,51224,16114,17444,11240,893,16679,4859,996,365,283,9007,3022,17587,4020,978,13228,3847,4192,6430,1142,13621,7059,919,5081,1593,1279,2212,241,289,149,1103,840,1983,214,4100,3514,606,2023,2297,14670,3227,2845,8,5598,6755,5096,14396,1372,552,908,2,941,2614,12710,432,3,346,1244,1,5444,149,11323,991,1661,4,1528,2304,1236,5226,577,74,1983,2626,2015,11501,3824,3050,2658,7356,31,5616,48,7964,2305,638,37,15085,1723,1435,2521,3294,2542,4094,3138,6,908,3,3541,1,14710,1,1813,283,912,5992,14678,777,1,5,1267,1715,2,8496,1325,18,4,32,4,676,3467,1244,4,683,442,342,255,55,4,2811,123,285,1272,744,5852,1576,3,8884,1160,1266,4921,2,511,2377,2720,3710,2,1480,4831,4072,563,3586,1,8,191,2,7578,4568,2578,3124,286,268,4383,2,2250,85,1,852,4,2923,3,7583,315,230,1811,1942,48,200,101,688,1692,4130,1,8,795,72,1553,503,1606,51,896,237,535,196,895,276,705,770,1700,1223,1255,500,2,644,381,273,500,656,285,1253,874,265,238,1120,146,3,2,20,3,2,185,277,412,636,815,341,225,137,381,573,534,282,1413,60,187,41,6,2,3,393,153,7,99,18,297,4,7,48,514,2,2,1,333,584,2,108,380,250,541,132,393,267,308,260,529,752,851,12,71,225,897,3601,2,480,5544145,3893,100,346,313,76,1802500,95,4193885,2800696,882,444,1,2,80,1,1796,1,9,2553,1,748,141,795,563,1,4265,1,1,2,1331,4142,2609,155,17,13,72,139,4,2,20,2,169,13,19,46,5,39,96,548,29,2,2,1,2,1,2,2,7,4,1,2,2,2,2,2,2,353,513,186,1,1,158,3,2,2,2,2,2,4,2,3,3,269,551,351,34,120,1,6,8,2,99,34,26,7,1,6,1,16,23953460,4041351,338,3,2414,1491,9,1435,1517,287,117,2818,341,1584,138,1151\\',kBL:\\'VsEN\\'};google.sn=\\'webhp\\';google.kHL=\\'en\\';})();(function(){\\nvar f=this||self;var h,k=[];function l(a){for(var b;a&&(!a.getAttribute||!(b=a.getAttribute(\"eid\")));)a=a.parentNode;return b||h}function m(a){for(var b=null;a&&(!a.getAttribute||!(b=a.getAttribute(\"leid\")));)a=a.parentNode;return b}\\nfunction n(a,b,c,d,g){var e=\"\";c||-1!==b.search(\"&ei=\")||(e=\"&ei=\"+l(d),-1===b.search(\"&lei=\")&&(d=m(d))&&(e+=\"&lei=\"+d));d=\"\";!c&&f._cshid&&-1===b.search(\"&cshid=\")&&\"slh\"!==a&&(d=\"&cshid=\"+f._cshid);c=c||\"/\"+(g||\"gen_204\")+\"?atyp=i&ct=\"+a+\"&cad=\"+b+e+\"&zx=\"+Date.now()+d;/^http:/i.test(c)&&\"https:\"===window.location.protocol&&(google.ml&&google.ml(Error(\"a\"),!1,{src:c,glmm:1}),c=\"\");return c};h=google.kEI;google.getEI=l;google.getLEI=m;google.ml=function(){return null};google.log=function(a,b,c,d,g){if(c=n(a,b,c,d,g)){a=new Image;var e=k.length;k[e]=a;a.onerror=a.onload=a.onabort=function(){delete k[e]};a.src=c}};google.logUrl=n;}).call(this);(function(){\\ngoogle.y={};google.sy=[];google.x=function(a,b){if(a)var c=a.id;else{do c=Math.random();while(google.y[c])}google.y[c]=[a,b];return!1};google.sx=function(a){google.sy.push(a)};google.lm=[];google.plm=function(a){google.lm.push.apply(google.lm,a)};google.lq=[];google.load=function(a,b,c){google.lq.push([[a],b,c])};google.loadAll=function(a,b){google.lq.push([a,b])};google.bx=!1;google.lx=function(){};}).call(this);google.f={};(function(){\\ndocument.documentElement.addEventListener(\"submit\",function(b){var a;if(a=b.target){var c=a.getAttribute(\"data-submitfalse\");a=\"1\"===c||\"q\"===c&&!a.elements.q.value?!0:!1}else a=!1;a&&(b.preventDefault(),b.stopPropagation())},!0);document.documentElement.addEventListener(\"click\",function(b){var a;a:{for(a=b.target;a&&a!==document.documentElement;a=a.parentElement)if(\"A\"===a.tagName){a=\"1\"===a.getAttribute(\"data-nohref\");break a}a=!1}a&&b.preventDefault()},!0);}).call(this);</script><style>#gbar,#guser{font-size:13px;padding-top:1px !important;}#gbar{height:22px}#guser{padding-bottom:7px !important;text-align:right}.gbh,.gbd{border-top:1px solid #c9d7f1;font-size:1px}.gbh{height:0;position:absolute;top:24px;width:100%}@media all{.gb1{height:22px;margin-right:.5em;vertical-align:top}#gbar{float:left}}a.gb1,a.gb4{text-decoration:underline !important}a.gb1,a.gb4{color:#00c !important}.gbi .gb4{color:#dd8e27 !important}.gbf .gb4{color:#900 !important}\\n</style><style>body,td,a,p,.h{font-family:arial,sans-serif}body{margin:0;overflow-y:scroll}#gog{padding:3px 8px 0}td{line-height:.8em}.gac_m td{line-height:17px}form{margin-bottom:20px}.h{color:#1558d6}em{font-weight:bold;font-style:normal}.lst{height:25px;width:496px}.gsfi,.lst{font:18px arial,sans-serif}.gsfs{font:17px arial,sans-serif}.ds{display:inline-box;display:inline-block;margin:3px 0 4px;margin-left:4px}input{font-family:inherit}body{background:#fff;color:#000}a{color:#4b11a8;text-decoration:none}a:hover,a:active{text-decoration:underline}.fl a{color:#1558d6}a:visited{color:#4b11a8}.sblc{padding-top:5px}.sblc a{display:block;margin:2px 0;margin-left:13px;font-size:11px}.lsbb{background:#f8f9fa;border:solid 1px;border-color:#dadce0 #70757a #70757a #dadce0;height:30px}.lsbb{display:block}#WqQANb a{display:inline-block;margin:0 12px}.lsb{background:url(/images/nav_logo229.png) 0 -261px repeat-x;border:none;color:#000;cursor:pointer;height:30px;margin:0;outline:0;font:15px arial,sans-serif;vertical-align:top}.lsb:active{background:#dadce0}.lst:focus{outline:none}</style><script nonce=\"8qqv2ksR4lkY6Pgyo2PoIw==\">(function(){window.google.erd={sp:\\'hp\\',jsr:0,bv:1465,de:true};\\nvar f=this||self;var g,h,k=null!==(g=f.mei)&&void 0!==g?g:1,l=null!==(h=f.sdo)&&void 0!==h?h:!0,n=0,p,q=google.erd,t=q.jsr;google.ml=function(a,b,e,m,d){d=void 0===d?2:d;b&&(p=a&&a.message);if(google.dl)return google.dl(a,d,e),null;if(0>t){window.console&&console.error(a,e);if(-2===t)throw a;b=!1}else b=!a||!a.message||\"Error loading script\"===a.message||n>=k&&!m?!1:!0;if(!b)return null;n++;e=e||{};b=encodeURIComponent;var c=\"/gen_204?atyp=i&ei=\"+b(google.kEI);google.kEXPI&&(c+=\"&jexpid=\"+b(google.kEXPI));c+=\"&srcpg=\"+b(q.sp)+\"&jsr=\"+b(q.jsr)+\"&bver=\"+b(q.bv)+(\"&jsel=\"+d);c+=\"&sn=\"+b(google.sn);for(var r in e)c+=\"&\",c+=b(r),c+=\"=\",c+=b(e[r]);c=c+\"&emsg=\"+b(a.name+\": \"+a.message);c=c+\"&jsst=\"+b(a.stack||\"N/A\");12288<=c.length&&(c=c.substr(0,12288));a=c;m||google.log(0,\"\",a);return a};window.onerror=function(a,b,e,m,d){p!==a&&google.ml(d instanceof Error?d:Error(a),!1,void 0,!1,!d||d instanceof SyntaxError?2:0);p=null;l&&n>=k&&(window.onerror=null)};})();</script></head><body bgcolor=\"#fff\"><script nonce=\"8qqv2ksR4lkY6Pgyo2PoIw==\">(function(){var src=\\'/images/nav_logo229.png\\';var iesg=false;document.body.onload = function(){window.n && window.n();if (document.images){new Image().src=src;}\\nif (!iesg){document.f&&document.f.q.focus();document.gbqf&&document.gbqf.q.focus();}\\n}\\n})();</script><div id=\"mngb\"><div id=gbar><nobr><b class=gb1>Search</b> <a class=gb1 href=\"http://www.google.com/imghp?hl=en&tab=wi\">Images</a> <a class=gb1 href=\"http://maps.google.com/maps?hl=en&tab=wl\">Maps</a> <a class=gb1 href=\"https://play.google.com/?hl=en&tab=w8\">Play</a> <a class=gb1 href=\"http://www.youtube.com/?gl=US&tab=w1\">YouTube</a> <a class=gb1 href=\"https://news.google.com/?tab=wn\">News</a> <a class=gb1 href=\"https://mail.google.com/mail/?tab=wm\">Gmail</a> <a class=gb1 href=\"https://drive.google.com/?tab=wo\">Drive</a> <a class=gb1 style=\"text-decoration:none\" href=\"https://www.google.com/intl/en/about/products?tab=wh\"><u>More</u> &raquo;</a></nobr></div><div id=guser width=100%><nobr><span id=gbn class=gbi></span><span id=gbf class=gbf></span><span id=gbe></span><a href=\"http://www.google.com/history/optout?hl=en\" class=gb4>Web History</a> | <a  href=\"/preferences?hl=en\" class=gb4>Settings</a> | <a target=_top id=gb_70 href=\"https://accounts.google.com/ServiceLogin?hl=en&passive=true&continue=http://www.google.com/&ec=GAZAAQ\" class=gb4>Sign in</a></nobr></div><div class=gbh style=left:0></div><div class=gbh style=right:0></div></div><center><br clear=\"all\" id=\"lgpd\"><div id=\"lga\"><img alt=\"Google\" height=\"92\" src=\"/images/branding/googlelogo/1x/googlelogo_white_background_color_272x92dp.png\" style=\"padding:28px 0 14px\" width=\"272\" id=\"hplogo\"><br><br></div><form action=\"/search\" name=\"f\"><table cellpadding=\"0\" cellspacing=\"0\"><tr valign=\"top\"><td width=\"25%\">&nbsp;</td><td align=\"center\" nowrap=\"\"><input name=\"ie\" value=\"ISO-8859-1\" type=\"hidden\"><input value=\"en\" name=\"hl\" type=\"hidden\"><input name=\"source\" type=\"hidden\" value=\"hp\"><input name=\"biw\" type=\"hidden\"><input name=\"bih\" type=\"hidden\"><div class=\"ds\" style=\"height:32px;margin:4px 0\"><input class=\"lst\" style=\"margin:0;padding:5px 8px 0 6px;vertical-align:top;color:#000\" autocomplete=\"off\" value=\"\" title=\"Google Search\" maxlength=\"2048\" name=\"q\" size=\"57\"></div><br style=\"line-height:0\"><span class=\"ds\"><span class=\"lsbb\"><input class=\"lsb\" value=\"Google Search\" name=\"btnG\" type=\"submit\"></span></span><span class=\"ds\"><span class=\"lsbb\"><input class=\"lsb\" id=\"tsuid1\" value=\"I\\'m Feeling Lucky\" name=\"btnI\" type=\"submit\"><script nonce=\"8qqv2ksR4lkY6Pgyo2PoIw==\">(function(){var id=\\'tsuid1\\';document.getElementById(id).onclick = function(){if (this.form.q.value){this.checked = 1;if (this.form.iflsig)this.form.iflsig.disabled = false;}\\nelse top.location=\\'/doodles/\\';};})();</script><input value=\"ALs-wAMAAAAAYXm0VdL_oVkGZHybLZ0BuJ13y96F-4Ce\" name=\"iflsig\" type=\"hidden\"></span></span></td><td class=\"fl sblc\" align=\"left\" nowrap=\"\" width=\"25%\"><a href=\"/advanced_search?hl=en&amp;authuser=0\">Advanced search</a></td></tr></table><input id=\"gbv\" name=\"gbv\" type=\"hidden\" value=\"1\"><script nonce=\"8qqv2ksR4lkY6Pgyo2PoIw==\">(function(){\\nvar a,b=\"1\";if(document&&document.getElementById)if(\"undefined\"!=typeof XMLHttpRequest)b=\"2\";else if(\"undefined\"!=typeof ActiveXObject){var c,d,e=[\"MSXML2.XMLHTTP.6.0\",\"MSXML2.XMLHTTP.3.0\",\"MSXML2.XMLHTTP\",\"Microsoft.XMLHTTP\"];for(c=0;d=e[c++];)try{new ActiveXObject(d),b=\"2\"}catch(h){}}a=b;if(\"2\"==a&&-1==location.search.indexOf(\"&gbv=2\")){var f=google.gbvu,g=document.getElementById(\"gbv\");g&&(g.value=a);f&&window.setTimeout(function(){location.href=f},0)};}).call(this);</script></form><div id=\"gac_scont\"></div><div style=\"font-size:83%;min-height:3.5em\"><br></div><span id=\"footer\"><div style=\"font-size:10pt\"><div style=\"margin:19px auto;text-align:center\" id=\"WqQANb\"><a href=\"/intl/en/ads/\">Advertising\\xa0Programs</a><a href=\"/services/\">Business Solutions</a><a href=\"/intl/en/about.html\">About Google</a></div></div><p style=\"font-size:8pt;color:#70757a\">&copy; 2021 - <a href=\"/intl/en/policies/privacy/\">Privacy</a> - <a href=\"/intl/en/policies/terms/\">Terms</a></p></span></center><script nonce=\"8qqv2ksR4lkY6Pgyo2PoIw==\">(function(){window.google.cdo={height:757,width:1440};(function(){\\nvar a=window.innerWidth,b=window.innerHeight;if(!a||!b){var c=window.document,d=\"CSS1Compat\"==c.compatMode?c.documentElement:c.body;a=d.clientWidth;b=d.clientHeight}a&&b&&(a!=google.cdo.width||b!=google.cdo.height)&&google.log(\"\",\"\",\"/client_204?&atyp=i&biw=\"+a+\"&bih=\"+b+\"&ei=\"+google.kEI);}).call(this);})();</script> <script nonce=\"8qqv2ksR4lkY6Pgyo2PoIw==\">(function(){google.xjs={ck:\\'\\',cs:\\'\\',excm:[]};})();</script>  <script nonce=\"8qqv2ksR4lkY6Pgyo2PoIw==\">(function(){var u=\\'/xjs/_/js/k\\\\x3dxjs.hp.en_US.f5MY-UjBa3o.O/am\\\\x3dAJ8ACw/d\\\\x3d1/ed\\\\x3d1/rs\\\\x3dACT90oHXfZF6VAvUA4d-YyfEOykBGqZ8Qw/m\\\\x3dsb_he,d\\';\\nvar e=this||self,f=function(a){return a};var g;var l=function(a,b){this.g=b===h?a:\"\"};l.prototype.toString=function(){return this.g+\"\"};var h={};\\nfunction m(){var a=u;google.lx=function(){n(a);google.lx=function(){}};google.bx||google.lx()}\\nfunction n(a){google.timers&&google.timers.load&&google.tick&&google.tick(\"load\",\"xjsls\");var b=document;var c=\"SCRIPT\";\"application/xhtml+xml\"===b.contentType&&(c=c.toLowerCase());c=b.createElement(c);if(void 0===g){b=null;var k=e.trustedTypes;if(k&&k.createPolicy){try{b=k.createPolicy(\"goog#html\",{createHTML:f,createScript:f,createScriptURL:f})}catch(p){e.console&&e.console.error(p.message)}g=b}else g=b}a=(b=g)?b.createScriptURL(a):a;a=new l(a,h);c.src=a instanceof l&&a.constructor===l?a.g:\"type_error:TrustedResourceUrl\";var d;a=(c.ownerDocument&&c.ownerDocument.defaultView||window).document;(d=(b=null===(d=a.querySelector)||void 0===d?void 0:d.call(a,\"script[nonce]\"))?b.nonce||b.getAttribute(\"nonce\")||\"\":\"\")&&c.setAttribute(\"nonce\",d);document.body.appendChild(c);google.psa=!0};setTimeout(function(){m()},0);})();(function(){window.google.xjsu=\\'/xjs/_/js/k\\\\x3dxjs.hp.en_US.f5MY-UjBa3o.O/am\\\\x3dAJ8ACw/d\\\\x3d1/ed\\\\x3d1/rs\\\\x3dACT90oHXfZF6VAvUA4d-YyfEOykBGqZ8Qw/m\\\\x3dsb_he,d\\';})();function _DumpException(e){throw e;}\\nfunction _F_installCss(c){}\\n(function(){google.jl={attn:false,blt:\\'none\\',chnk:0,dw:false,dwu:true,emtn:0,end:0,ine:false,lls:\\'default\\',pdt:0,rep:0,snet:true,strt:0,ubm:false,uwp:true};})();(function(){var pmc=\\'{\\\\x22d\\\\x22:{},\\\\x22sb_he\\\\x22:{\\\\x22agen\\\\x22:true,\\\\x22cgen\\\\x22:true,\\\\x22client\\\\x22:\\\\x22heirloom-hp\\\\x22,\\\\x22dh\\\\x22:true,\\\\x22dhqt\\\\x22:true,\\\\x22ds\\\\x22:\\\\x22\\\\x22,\\\\x22ffql\\\\x22:\\\\x22en\\\\x22,\\\\x22fl\\\\x22:true,\\\\x22host\\\\x22:\\\\x22google.com\\\\x22,\\\\x22isbh\\\\x22:28,\\\\x22jsonp\\\\x22:true,\\\\x22msgs\\\\x22:{\\\\x22cibl\\\\x22:\\\\x22Clear Search\\\\x22,\\\\x22dym\\\\x22:\\\\x22Did you mean:\\\\x22,\\\\x22lcky\\\\x22:\\\\x22I\\\\\\\\u0026#39;m Feeling Lucky\\\\x22,\\\\x22lml\\\\x22:\\\\x22Learn more\\\\x22,\\\\x22oskt\\\\x22:\\\\x22Input tools\\\\x22,\\\\x22psrc\\\\x22:\\\\x22This search was removed from your \\\\\\\\u003Ca href\\\\x3d\\\\\\\\\\\\x22/history\\\\\\\\\\\\x22\\\\\\\\u003EWeb History\\\\\\\\u003C/a\\\\\\\\u003E\\\\x22,\\\\x22psrl\\\\x22:\\\\x22Remove\\\\x22,\\\\x22sbit\\\\x22:\\\\x22Search by image\\\\x22,\\\\x22srch\\\\x22:\\\\x22Google Search\\\\x22},\\\\x22ovr\\\\x22:{},\\\\x22pq\\\\x22:\\\\x22\\\\x22,\\\\x22refpd\\\\x22:true,\\\\x22rfs\\\\x22:[],\\\\x22sbas\\\\x22:\\\\x220 3px 8px 0 rgba(0,0,0,0.2),0 0 0 1px rgba(0,0,0,0.08)\\\\x22,\\\\x22sbpl\\\\x22:16,\\\\x22sbpr\\\\x22:16,\\\\x22scd\\\\x22:10,\\\\x22stok\\\\x22:\\\\x22c9RJnpB8g3nhonnl_wl_lCB7rOA\\\\x22,\\\\x22uhde\\\\x22:false}}\\';google.pmc=JSON.parse(pmc);})();</script>        </body></html>'\n"
          ]
        }
      ]
    },
    {
      "cell_type": "markdown",
      "metadata": {
        "id": "YuJHa7odMglO"
      },
      "source": [
        "ScyPy"
      ]
    },
    {
      "cell_type": "markdown",
      "metadata": {
        "id": "M9SMncX_MiV1"
      },
      "source": [
        "NumPy\n",
        "\n",
        "\n",
        "VERY FAST!!!\n",
        "\n",
        "Numeric Operations\n",
        "\n",
        "Array / Matrix\n",
        "\n",
        "Scalar\n",
        "\n",
        "# optimized C ou Fortran"
      ]
    },
    {
      "cell_type": "code",
      "metadata": {
        "colab": {
          "base_uri": "https://localhost:8080/"
        },
        "id": "C2OZ1Aw0Mrji",
        "outputId": "9ae51dee-9187-40db-ba86-22bdfb536780"
      },
      "source": [
        "# LPBProgram20.py\n",
        "import numpy as np\n",
        "a = np.array([[1,2,3],[4,5,6]])\n",
        "print(a)\n",
        "print(a.shape)\n",
        "print(a.ndim)\n",
        "x=np.zeros(5)\n",
        "y = np.zeros(6)\n",
        "print(x)\n",
        "print(y)"
      ],
      "execution_count": 48,
      "outputs": [
        {
          "output_type": "stream",
          "name": "stdout",
          "text": [
            "[[1 2 3]\n",
            " [4 5 6]]\n",
            "(2, 3)\n",
            "2\n",
            "[0. 0. 0. 0. 0.]\n",
            "[0. 0. 0. 0. 0. 0.]\n"
          ]
        }
      ]
    },
    {
      "cell_type": "code",
      "metadata": {
        "colab": {
          "base_uri": "https://localhost:8080/"
        },
        "id": "27sISRiRNG06",
        "outputId": "f4278554-5b39-47ee-d0b6-d1aea1956354"
      },
      "source": [
        "# LPBProgram21.py\n",
        "import numpy as np\n",
        "invest = [12.4, 9.8, 3.2, 11.5, 8.7]\n",
        "cpi = 4.7\n",
        "INV = np.array(invest)\n",
        "print(INV)\n",
        "print(((INV/100+1)/(cpi/100+1)-1)*100)"
      ],
      "execution_count": 53,
      "outputs": [
        {
          "output_type": "stream",
          "name": "stdout",
          "text": [
            "[12.4  9.8  3.2 11.5  8.7]\n",
            "[ 7.35434575  4.87106017 -1.43266476  6.4947469   3.82043935]\n"
          ]
        }
      ]
    },
    {
      "cell_type": "code",
      "metadata": {
        "colab": {
          "base_uri": "https://localhost:8080/"
        },
        "id": "V1SGw95ANiEi",
        "outputId": "ab181761-b96b-4eef-a48c-7a32d244b7b6"
      },
      "source": [
        "# NUMPY FINANCIAL FUNCTIONS\n",
        "# LPBProgram22.py\n",
        "import numpy\n",
        "print(numpy.fv(0.05, 5, -1000, 0))\n"
      ],
      "execution_count": 57,
      "outputs": [
        {
          "output_type": "stream",
          "name": "stdout",
          "text": [
            "5525.631250000007\n"
          ]
        },
        {
          "output_type": "stream",
          "name": "stderr",
          "text": [
            "/usr/local/lib/python3.7/dist-packages/ipykernel_launcher.py:4: DeprecationWarning: numpy.fv is deprecated and will be removed from NumPy 1.20. Use numpy_financial.fv instead (https://pypi.org/project/numpy-financial/).\n",
            "  after removing the cwd from sys.path.\n"
          ]
        }
      ]
    },
    {
      "cell_type": "markdown",
      "metadata": {
        "id": "66sQephR6yL6"
      },
      "source": [
        "-Program-Exercise 25 (pe25.py)\n",
        "\n",
        "Calculate the standard cost of ICE CREAM WOW, assuming this standard cost card (variable costs only)\n",
        "\n",
        "[Please: compute the performance in secs]\n",
        "\n",
        "Base mix IC-2, 4 lbs., $1.87/lbs\n",
        "\n",
        "Flavour 123c, 25g, $0.72/g\n",
        "\n",
        "Grade A Milk, .89 gal., $ 3.29/gal.\n",
        "\n",
        "Mix-In Ingredient 53, 23 oz., $0.15/oz.\n",
        "\n",
        "Mix-In Ingredient 87, 16 oz., $0.09/oz. \n",
        "\n",
        "\n",
        "-Program-Exercise 26 (pe26.py)\n",
        "\n",
        "Compute the accounts receivable aging (individual) and the overall average age, according to data in file “ARaging.csv\":\n",
        "\n",
        "[Please: compute the performance in secs]\n",
        "\n",
        "File contains: Customer, Due Date, Amount\n",
        "\n",
        "\n",
        "-Program-Exercise 27 (pe27.py)\n",
        "\n",
        "Compute new amount (with interest, as of today) of accounts receivable and the total amount (with interest, as of today), according to data in file “ARaging.csv” and assuming an interest rate of 7% APR (year-based):\n",
        "\n",
        "[Please: compute the performance in secs]\n",
        "\n",
        "File contains: Customer, Due Date, Amount"
      ]
    }
  ]
}