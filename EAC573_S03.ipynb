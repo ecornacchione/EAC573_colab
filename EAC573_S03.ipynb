{
  "nbformat": 4,
  "nbformat_minor": 0,
  "metadata": {
    "colab": {
      "name": "EAC573_S03.ipynb",
      "provenance": [],
      "collapsed_sections": [],
      "authorship_tag": "ABX9TyMvZC+L9Ma5iB2f3PwROyS1"
    },
    "kernelspec": {
      "name": "python3",
      "display_name": "Python 3"
    },
    "language_info": {
      "name": "python"
    }
  },
  "cells": [
    {
      "cell_type": "markdown",
      "metadata": {
        "id": "dHfoDIG3jJSf"
      },
      "source": [
        "EAC 573 S03 - Python coding in *COLAB*\n",
        "\n",
        "Program and Files"
      ]
    },
    {
      "cell_type": "markdown",
      "metadata": {
        "id": "iBCk9BF2jZAM"
      },
      "source": [
        "Examples in BASH/LINUX\n",
        "\n",
        "---\n",
        "$ ls\n",
        "\n",
        "$ cat > program.py\n",
        "\n",
        " print(“Hello World!”)\n",
        "\n",
        "(press ctrl+d to save)\n",
        "\n",
        "$ ls\n",
        "\n",
        "$ python program.py\n",
        "\n",
        "$ cd <new dir>\n",
        "\n",
        "$ cd ..\n",
        "\n",
        "$ cp --help (copy files)\n",
        "\n",
        "$ scp (secure transfer, not ftp) "
      ]
    },
    {
      "cell_type": "code",
      "metadata": {
        "id": "dhoV8NcMlG0A",
        "colab": {
          "base_uri": "https://localhost:8080/"
        },
        "outputId": "fbe086b7-418f-4b7c-b464-06338c573a57"
      },
      "source": [
        "# LPBProgram00.py\n",
        "\n",
        "import math\n",
        "nPi = math.pi\n",
        "print(nPi)"
      ],
      "execution_count": 12,
      "outputs": [
        {
          "output_type": "stream",
          "name": "stdout",
          "text": [
            "3.141592653589793\n"
          ]
        }
      ]
    },
    {
      "cell_type": "code",
      "metadata": {
        "colab": {
          "base_uri": "https://localhost:8080/"
        },
        "id": "etlZg-xelI8a",
        "outputId": "7321e191-6237-4f1c-b7d2-42d295ba1895"
      },
      "source": [
        "# LPBProgram01.py\n",
        "cName = input(\"Name:\")\n",
        "cAge = input(\"Age:\")\n",
        "print(\"Hello, \", cName , \" \\n your age is: \" , cAge)\n",
        "\n",
        "type(cName)\n",
        "\n",
        "type(cAge)"
      ],
      "execution_count": null,
      "outputs": [
        {
          "output_type": "stream",
          "name": "stdout",
          "text": [
            "Name:e\n",
            "Age:8\n",
            "Hello,  e  \n",
            " your age is:  8\n"
          ]
        },
        {
          "output_type": "execute_result",
          "data": {
            "text/plain": [
              "str"
            ]
          },
          "metadata": {},
          "execution_count": 6
        }
      ]
    },
    {
      "cell_type": "code",
      "metadata": {
        "id": "-hUMv_4olKwx",
        "colab": {
          "base_uri": "https://localhost:8080/"
        },
        "outputId": "6f458518-57a4-4ec1-92ea-2e6f1046f03a"
      },
      "source": [
        "file = open('workfile', 'w')\n",
        "file.write(\"Hello World!\")\n",
        "file.close"
      ],
      "execution_count": 13,
      "outputs": [
        {
          "output_type": "execute_result",
          "data": {
            "text/plain": [
              "<function TextIOWrapper.close>"
            ]
          },
          "metadata": {},
          "execution_count": 13
        }
      ]
    },
    {
      "cell_type": "code",
      "metadata": {
        "colab": {
          "base_uri": "https://localhost:8080/"
        },
        "id": "bf237dZAlMEG",
        "outputId": "b1c48776-6885-4a29-cc21-eb0c84425b09"
      },
      "source": [
        "file = open('workfile', 'a')\n",
        "file.write(\"Hello again\")\n",
        "file.close"
      ],
      "execution_count": 14,
      "outputs": [
        {
          "output_type": "execute_result",
          "data": {
            "text/plain": [
              "<function TextIOWrapper.close>"
            ]
          },
          "metadata": {},
          "execution_count": 14
        }
      ]
    },
    {
      "cell_type": "code",
      "metadata": {
        "id": "dC3fAkpclNtu",
        "colab": {
          "base_uri": "https://localhost:8080/"
        },
        "outputId": "75436d50-9d84-41d3-b221-20c2afd3e8ff"
      },
      "source": [
        "file = open('workfile', 'r')\n",
        "print(file.readline())\n",
        "print(file.readline())\n",
        "file.close"
      ],
      "execution_count": 16,
      "outputs": [
        {
          "output_type": "stream",
          "name": "stdout",
          "text": [
            "\n",
            "\n"
          ]
        },
        {
          "output_type": "execute_result",
          "data": {
            "text/plain": [
              "<function TextIOWrapper.close>"
            ]
          },
          "metadata": {},
          "execution_count": 16
        }
      ]
    },
    {
      "cell_type": "code",
      "metadata": {
        "colab": {
          "base_uri": "https://localhost:8080/"
        },
        "id": "z_7-gAknlP98",
        "outputId": "42baa30b-36bc-4de1-85e0-519b9eb5ebd0"
      },
      "source": [
        "file = open('workfile', 'r')\n",
        "file.read()\n",
        "file.close"
      ],
      "execution_count": 19,
      "outputs": [
        {
          "output_type": "execute_result",
          "data": {
            "text/plain": [
              "<function TextIOWrapper.close>"
            ]
          },
          "metadata": {},
          "execution_count": 19
        }
      ]
    },
    {
      "cell_type": "code",
      "metadata": {
        "id": "YB8OMhoPLe7y"
      },
      "source": [
        ""
      ],
      "execution_count": null,
      "outputs": []
    },
    {
      "cell_type": "markdown",
      "metadata": {
        "id": "66sQephR6yL6"
      },
      "source": [
        "-Program-Exercise 01 (pe01.py)\n",
        "\n",
        "Area and Perimeter of a circle, given the radius\n",
        "\n",
        "\n",
        "-Program-Exercise 02 (pe02.py)\n",
        "\n",
        "Temperature in F, given Temperature in Celsius\n",
        "\n",
        "-Program-Exercise 03 (pe03.py)\n",
        "\n",
        "Value in GBP, given value in USD and Exchange Rate\n",
        "\n",
        "-Program-Exercise 04 (pe04.py)\n",
        "\n",
        "Value in GBP, given value in USD using Exchange Rate present in the file <GBPUSD.txt>\n",
        "\n",
        "-Program Exercise 05 (pe05.py)\n",
        "\n",
        "Present value of given future value, periods, and interest rate\n",
        "\n"
      ]
    },
    {
      "cell_type": "code",
      "metadata": {
        "id": "G6HhSs-j7Y3h",
        "colab": {
          "base_uri": "https://localhost:8080/"
        },
        "outputId": "30976b6d-d657-4574-9afc-819cfd7b000e"
      },
      "source": [
        "#!pip show quandl\n",
        "\n",
        "#!pip install quandl"
      ],
      "execution_count": 20,
      "outputs": [
        {
          "output_type": "stream",
          "name": "stdout",
          "text": [
            "Name: Quandl\n",
            "Version: 3.6.1\n",
            "Summary: Package for quandl API access\n",
            "Home-page: https://github.com/quandl/quandl-python\n",
            "Author: Quandl\n",
            "Author-email: connect@quandl.com\n",
            "License: MIT\n",
            "Location: /usr/local/lib/python3.7/dist-packages\n",
            "Requires: inflection, numpy, pandas, requests, more-itertools, six, python-dateutil\n",
            "Required-by: \n"
          ]
        }
      ]
    },
    {
      "cell_type": "code",
      "metadata": {
        "colab": {
          "base_uri": "https://localhost:8080/",
          "height": 361
        },
        "id": "7fzEpR0p7uL1",
        "outputId": "8d28a403-99d7-4055-f434-b8182d4d6bca"
      },
      "source": [
        "import quandl\n",
        "myData = quandl.get(\"WIKI/AAPL\", rows=5)\n",
        "myData\n"
      ],
      "execution_count": null,
      "outputs": [
        {
          "output_type": "execute_result",
          "data": {
            "text/html": [
              "<div>\n",
              "<style scoped>\n",
              "    .dataframe tbody tr th:only-of-type {\n",
              "        vertical-align: middle;\n",
              "    }\n",
              "\n",
              "    .dataframe tbody tr th {\n",
              "        vertical-align: top;\n",
              "    }\n",
              "\n",
              "    .dataframe thead th {\n",
              "        text-align: right;\n",
              "    }\n",
              "</style>\n",
              "<table border=\"1\" class=\"dataframe\">\n",
              "  <thead>\n",
              "    <tr style=\"text-align: right;\">\n",
              "      <th></th>\n",
              "      <th>Open</th>\n",
              "      <th>High</th>\n",
              "      <th>Low</th>\n",
              "      <th>Close</th>\n",
              "      <th>Volume</th>\n",
              "      <th>Ex-Dividend</th>\n",
              "      <th>Split Ratio</th>\n",
              "      <th>Adj. Open</th>\n",
              "      <th>Adj. High</th>\n",
              "      <th>Adj. Low</th>\n",
              "      <th>Adj. Close</th>\n",
              "      <th>Adj. Volume</th>\n",
              "    </tr>\n",
              "    <tr>\n",
              "      <th>Date</th>\n",
              "      <th></th>\n",
              "      <th></th>\n",
              "      <th></th>\n",
              "      <th></th>\n",
              "      <th></th>\n",
              "      <th></th>\n",
              "      <th></th>\n",
              "      <th></th>\n",
              "      <th></th>\n",
              "      <th></th>\n",
              "      <th></th>\n",
              "      <th></th>\n",
              "    </tr>\n",
              "  </thead>\n",
              "  <tbody>\n",
              "    <tr>\n",
              "      <th>2018-03-21</th>\n",
              "      <td>175.04</td>\n",
              "      <td>175.09</td>\n",
              "      <td>171.26</td>\n",
              "      <td>171.270</td>\n",
              "      <td>35247358.0</td>\n",
              "      <td>0.0</td>\n",
              "      <td>1.0</td>\n",
              "      <td>175.04</td>\n",
              "      <td>175.09</td>\n",
              "      <td>171.26</td>\n",
              "      <td>171.270</td>\n",
              "      <td>35247358.0</td>\n",
              "    </tr>\n",
              "    <tr>\n",
              "      <th>2018-03-22</th>\n",
              "      <td>170.00</td>\n",
              "      <td>172.68</td>\n",
              "      <td>168.60</td>\n",
              "      <td>168.845</td>\n",
              "      <td>41051076.0</td>\n",
              "      <td>0.0</td>\n",
              "      <td>1.0</td>\n",
              "      <td>170.00</td>\n",
              "      <td>172.68</td>\n",
              "      <td>168.60</td>\n",
              "      <td>168.845</td>\n",
              "      <td>41051076.0</td>\n",
              "    </tr>\n",
              "    <tr>\n",
              "      <th>2018-03-23</th>\n",
              "      <td>168.39</td>\n",
              "      <td>169.92</td>\n",
              "      <td>164.94</td>\n",
              "      <td>164.940</td>\n",
              "      <td>40248954.0</td>\n",
              "      <td>0.0</td>\n",
              "      <td>1.0</td>\n",
              "      <td>168.39</td>\n",
              "      <td>169.92</td>\n",
              "      <td>164.94</td>\n",
              "      <td>164.940</td>\n",
              "      <td>40248954.0</td>\n",
              "    </tr>\n",
              "    <tr>\n",
              "      <th>2018-03-26</th>\n",
              "      <td>168.07</td>\n",
              "      <td>173.10</td>\n",
              "      <td>166.44</td>\n",
              "      <td>172.770</td>\n",
              "      <td>36272617.0</td>\n",
              "      <td>0.0</td>\n",
              "      <td>1.0</td>\n",
              "      <td>168.07</td>\n",
              "      <td>173.10</td>\n",
              "      <td>166.44</td>\n",
              "      <td>172.770</td>\n",
              "      <td>36272617.0</td>\n",
              "    </tr>\n",
              "    <tr>\n",
              "      <th>2018-03-27</th>\n",
              "      <td>173.68</td>\n",
              "      <td>175.15</td>\n",
              "      <td>166.92</td>\n",
              "      <td>168.340</td>\n",
              "      <td>38962839.0</td>\n",
              "      <td>0.0</td>\n",
              "      <td>1.0</td>\n",
              "      <td>173.68</td>\n",
              "      <td>175.15</td>\n",
              "      <td>166.92</td>\n",
              "      <td>168.340</td>\n",
              "      <td>38962839.0</td>\n",
              "    </tr>\n",
              "  </tbody>\n",
              "</table>\n",
              "</div>"
            ],
            "text/plain": [
              "              Open    High     Low  ...  Adj. Low  Adj. Close  Adj. Volume\n",
              "Date                                ...                                   \n",
              "2018-03-21  175.04  175.09  171.26  ...    171.26     171.270   35247358.0\n",
              "2018-03-22  170.00  172.68  168.60  ...    168.60     168.845   41051076.0\n",
              "2018-03-23  168.39  169.92  164.94  ...    164.94     164.940   40248954.0\n",
              "2018-03-26  168.07  173.10  166.44  ...    166.44     172.770   36272617.0\n",
              "2018-03-27  173.68  175.15  166.92  ...    166.92     168.340   38962839.0\n",
              "\n",
              "[5 rows x 12 columns]"
            ]
          },
          "metadata": {},
          "execution_count": 7
        }
      ]
    },
    {
      "cell_type": "code",
      "metadata": {
        "id": "Hfgnicl47gNa",
        "colab": {
          "base_uri": "https://localhost:8080/",
          "height": 547
        },
        "outputId": "fc063885-67ad-4f57-c1c5-f7c2a46973f3"
      },
      "source": [
        "import quandl as qdl\n",
        "var = '1'\n",
        "dolar = qdl.get('BCB/' + var, start_date = '2014-06-01')\n",
        "#sns.set()\n",
        "print(dolar)\n",
        "import matplotlib as mpl\n",
        "dolar.plot()"
      ],
      "execution_count": 21,
      "outputs": [
        {
          "output_type": "stream",
          "name": "stdout",
          "text": [
            "             Value\n",
            "Date              \n",
            "2014-06-02  2.2640\n",
            "2014-06-03  2.2654\n",
            "2014-06-04  2.2802\n",
            "2014-06-05  2.2695\n",
            "2014-06-06  2.2445\n",
            "...            ...\n",
            "2021-09-09  5.2825\n",
            "2021-09-10  5.2158\n",
            "2021-09-13  5.2190\n",
            "2021-09-14  5.2260\n",
            "2021-09-15  5.2576\n",
            "\n",
            "[1832 rows x 1 columns]\n"
          ]
        },
        {
          "output_type": "execute_result",
          "data": {
            "text/plain": [
              "<matplotlib.axes._subplots.AxesSubplot at 0x7fc8aa294b10>"
            ]
          },
          "metadata": {},
          "execution_count": 21
        },
        {
          "output_type": "display_data",
          "data": {
            "image/png": "[encoded data removed]",
            "text/plain": [
              "<Figure size 432x288 with 1 Axes>"
            ]
          },
          "metadata": {
            "needs_background": "light"
          }
        }
      ]
    }
  ]
}