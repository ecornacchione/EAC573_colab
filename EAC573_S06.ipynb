{
  "nbformat": 4,
  "nbformat_minor": 0,
  "metadata": {
    "colab": {
      "name": "EAC573_S06.ipynb",
      "provenance": [],
      "collapsed_sections": [],
      "authorship_tag": "ABX9TyMSDoC+RdzBidjAowS10LEm"
    },
    "kernelspec": {
      "name": "python3",
      "display_name": "Python 3"
    },
    "language_info": {
      "name": "python"
    }
  },
  "cells": [
    {
      "cell_type": "markdown",
      "metadata": {
        "id": "dHfoDIG3jJSf"
      },
      "source": [
        "EAC 573 S06 - Python coding in *COLAB*\n",
        "\n",
        "Functions, Parameters and Return Values\n"
      ]
    },
    {
      "cell_type": "markdown",
      "metadata": {
        "id": "iBCk9BF2jZAM"
      },
      "source": [
        "Functions\n",
        "---\n",
        "Block of code\n",
        "\n",
        "Logic\n",
        "\n",
        "Optimization\n",
        "\n",
        "Clarity\n",
        "\n",
        "Performance\n",
        "\n",
        "Reuse\n",
        "\n",
        "Input / Output\n"
      ]
    },
    {
      "cell_type": "markdown",
      "metadata": {
        "id": "dLIc2lI3_0rM"
      },
      "source": [
        "def FunctionName(<parameters>):\n",
        "\n",
        "  <\"Optional Documentation String\">\n",
        "\n",
        "  statements\n",
        "\n",
        "  <return(<expression>)>\n",
        "\n",
        "[Caution: Indentation!]"
      ]
    },
    {
      "cell_type": "code",
      "metadata": {
        "colab": {
          "base_uri": "https://localhost:8080/"
        },
        "id": "D82flZEr_tHm",
        "outputId": "2bdad1f0-2d7e-4fde-a7e9-67a8d85ab25f"
      },
      "source": [
        "# LPBProgram08.py\n",
        "def printme(cPar):\n",
        "  \"Printing function\"\n",
        "  print(cPar)             # no return clause\n"
      ],
      "execution_count": 4,
      "outputs": [
        {
          "output_type": "stream",
          "name": "stdout",
          "text": [
            "Testing\n"
          ]
        }
      ]
    },
    {
      "cell_type": "code",
      "metadata": {
        "colab": {
          "base_uri": "https://localhost:8080/"
        },
        "id": "srDo6Wreb2c3",
        "outputId": "a7360ef5-b46f-407d-f438-7158331a01fe"
      },
      "source": [
        "printme(\"Testing\")"
      ],
      "execution_count": 6,
      "outputs": [
        {
          "output_type": "stream",
          "name": "stdout",
          "text": [
            "Testing\n"
          ]
        }
      ]
    },
    {
      "cell_type": "code",
      "metadata": {
        "colab": {
          "base_uri": "https://localhost:8080/",
          "height": 167
        },
        "id": "OVI01-WTcEJ4",
        "outputId": "d066b7e6-e764-49a8-ae6d-392fb8a87577"
      },
      "source": [
        "printme()             # error, no parameter"
      ],
      "execution_count": 7,
      "outputs": [
        {
          "output_type": "error",
          "ename": "TypeError",
          "evalue": "ignored",
          "traceback": [
            "\u001b[0;31m---------------------------------------------------------------------------\u001b[0m",
            "\u001b[0;31mTypeError\u001b[0m                                 Traceback (most recent call last)",
            "\u001b[0;32m<ipython-input-7-19c689ae8a3e>\u001b[0m in \u001b[0;36m<module>\u001b[0;34m()\u001b[0m\n\u001b[0;32m----> 1\u001b[0;31m \u001b[0mprintme\u001b[0m\u001b[0;34m(\u001b[0m\u001b[0;34m)\u001b[0m\u001b[0;34m\u001b[0m\u001b[0;34m\u001b[0m\u001b[0m\n\u001b[0m",
            "\u001b[0;31mTypeError\u001b[0m: printme() missing 1 required positional argument: 'cPar'"
          ]
        }
      ]
    },
    {
      "cell_type": "code",
      "metadata": {
        "id": "hxxkUqPZAG2I"
      },
      "source": [
        "# LPBProgram08b.py\n",
        "def printme(cPar=\"No parameter\"):\n",
        "  \"Printing function\"\n",
        "  print(cPar)             # no return clause"
      ],
      "execution_count": 1,
      "outputs": []
    },
    {
      "cell_type": "code",
      "metadata": {
        "colab": {
          "base_uri": "https://localhost:8080/"
        },
        "id": "C1n_IqmrJSZo",
        "outputId": "2a71fa52-dee3-479f-8846-8210d76b8ac6"
      },
      "source": [
        "printme()             # error, no parameter"
      ],
      "execution_count": 2,
      "outputs": [
        {
          "output_type": "stream",
          "name": "stdout",
          "text": [
            "No parameter\n"
          ]
        }
      ]
    },
    {
      "cell_type": "markdown",
      "metadata": {
        "id": "4-4NlZ_D1iI_"
      },
      "source": [
        "Compound interest"
      ]
    },
    {
      "cell_type": "markdown",
      "metadata": {
        "id": "nGM7kdfd1psi"
      },
      "source": [
        "P = principal amount\n",
        "\n",
        "r = annual nomimal interest rate (as a decimal)\n",
        "\n",
        "n = number of times the interest is compounded per year\n",
        "\n",
        "t = number of years"
      ]
    },
    {
      "cell_type": "code",
      "metadata": {
        "id": "SlU7Ie0UAR1_"
      },
      "source": [
        "#LBProgram09.py\n",
        "def fv(i, n, pv):\n",
        "  fv = pv *(1+(i/100))**n\n",
        "  return(fv)"
      ],
      "execution_count": 5,
      "outputs": []
    },
    {
      "cell_type": "code",
      "metadata": {
        "id": "BRkhMA-1AbCd",
        "colab": {
          "base_uri": "https://localhost:8080/"
        },
        "outputId": "262efe63-883a-496b-86b5-40dd7eca6e14"
      },
      "source": [
        "print(fv(6.0, 5.0, 10000.0))"
      ],
      "execution_count": 7,
      "outputs": [
        {
          "output_type": "stream",
          "name": "stdout",
          "text": [
            "13382.255776000004\n"
          ]
        }
      ]
    },
    {
      "cell_type": "code",
      "metadata": {
        "id": "2kzVl6Zd2RxA"
      },
      "source": [
        "# SUM OF SERIES (SIGMA)\n",
        "\n",
        "# LPBProgram11.py\n",
        "def sum(myset):\n",
        "  \"Sum of series OR Sigma\"\n",
        "  total = 0.0\n",
        "  for i in range(len(myset)):\n",
        "    total += myset[i]\n",
        "  return(total)"
      ],
      "execution_count": 8,
      "outputs": []
    },
    {
      "cell_type": "code",
      "metadata": {
        "colab": {
          "base_uri": "https://localhost:8080/"
        },
        "id": "lGsikUASKY7M",
        "outputId": "a0e67d1e-9cab-4c73-9435-5344f27d83d0"
      },
      "source": [
        "w = [1,2,3,4]\n",
        "print(sum(w))"
      ],
      "execution_count": 9,
      "outputs": [
        {
          "output_type": "stream",
          "name": "stdout",
          "text": [
            "10.0\n"
          ]
        }
      ]
    },
    {
      "cell_type": "code",
      "metadata": {
        "id": "7sQ9bxsm2a9h"
      },
      "source": [
        "# PRODUCT OF SERIES (PI)\n",
        "\n",
        "# LPBProgram12.py\n",
        "def mult(myset):\n",
        "  \"Multiplier of series OR Pi\"\n",
        "  total = 1.0\n",
        "  for i in range(len(myset)):\n",
        "    total *= myset[i]\n",
        "  return(total)"
      ],
      "execution_count": 10,
      "outputs": []
    },
    {
      "cell_type": "code",
      "metadata": {
        "colab": {
          "base_uri": "https://localhost:8080/"
        },
        "id": "5Bgo1jYSKt8r",
        "outputId": "83a66cba-0913-43c8-b51d-1edc40a38ff4"
      },
      "source": [
        "w = [1,2,3,4]\n",
        "print(mult(w))"
      ],
      "execution_count": 11,
      "outputs": [
        {
          "output_type": "stream",
          "name": "stdout",
          "text": [
            "24.0\n"
          ]
        }
      ]
    },
    {
      "cell_type": "markdown",
      "metadata": {
        "id": "66sQephR6yL6"
      },
      "source": [
        "-Program-Exercise 16 (pe16.py)\n",
        "\n",
        "Function for traffic restriction, given user input of a vehicle's license plate (string) and the restrictions bellow:\n",
        "\n",
        "ending in 1 or 2, cannot be used on Mondays\n",
        "ending in 3 or 4, cannot be used on Tuesdays\n",
        "ending in 5 or 6, cannot be used on Wednesdays\n",
        "ending in 7 or 8, cannot be used on Thursdays\n",
        "ending in 9 or 0, cannot be used on Fridays\n",
        "\n",
        "\n",
        "-Program-Exercise 17 (pe17.py)\n",
        "\n",
        "Function that computes the real rate of a certain\n",
        "investment, given parameters of nominal rate and inflation\n",
        "rate (using a function).\n",
        "\n",
        "\n",
        "-Program-Exercise 18 (pe18.py)\n",
        "\n",
        "Function that returns cumulative rate (in percentage),\n",
        "given parameter of a list (float) of monthly investment rates\n",
        "\n",
        "-Program-Exercise 19 (pe19.py)\n",
        "\n",
        "Function that returns the Present Value,\n",
        "given parameters of (all float) future value, periods and rate\n",
        "\n",
        "-Program-Exercise 20 (pe20.py)\n",
        "\n",
        "# RE-WRITE PROGRAM pe15.py, using functions\n",
        "\n",
        "Function that returns the\n",
        "Retirement Yearly Payments in USD,\n",
        "given these parameters:\n",
        "\n",
        "\n",
        "[1] Current Age (in years, as integer)\n",
        "\n",
        "[2] Planned Age for Retirement (in years, as integer)\n",
        "\n",
        "[3] Number of years of retirement payments back (integer)\n",
        "\n",
        "[4] Amount of retirement investment in USD as today (float)\n",
        "\n",
        "[5] Planned Yearly investment in USD\n",
        "\n",
        "[6] Assumed yearly interest rate (float)"
      ]
    }
  ]
}