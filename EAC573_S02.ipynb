{
  "nbformat": 4,
  "nbformat_minor": 0,
  "metadata": {
    "colab": {
      "name": "EAC573_S02.ipynb",
      "provenance": [],
      "authorship_tag": "ABX9TyP0PcV12foemCxh1RuUfiEy"
    },
    "kernelspec": {
      "name": "python3",
      "display_name": "Python 3"
    },
    "language_info": {
      "name": "python"
    }
  },
  "cells": [
    {
      "cell_type": "markdown",
      "metadata": {
        "id": "dHfoDIG3jJSf"
      },
      "source": [
        "EAC 573 S01 - Python coding in *COLAB*\n",
        "\n",
        "Variables, Data types, Arrays, Operators, Expressions..."
      ]
    },
    {
      "cell_type": "markdown",
      "metadata": {
        "id": "iBCk9BF2jZAM"
      },
      "source": [
        "TYPES\n",
        "\n",
        "\n",
        "---\n",
        "\n",
        "\n",
        "INT     INTEGER 3\n",
        "\n",
        "LONG    LONG INTEGERS\n",
        "\n",
        "FLOAT   FLOATING POINT 4.25\n",
        "\n",
        "COMPLEX COMPLEX NUMBERS 3.14j\n",
        "\n",
        "STR     STRING \"Hello\"\n",
        "\n",
        "BOOLEAN BOOLEAN True\n"
      ]
    },
    {
      "cell_type": "markdown",
      "metadata": {
        "id": "4tq5TAkojxku"
      },
      "source": [
        "Variable Names\n",
        "\n",
        "\n",
        "---\n",
        "\n",
        "\n",
        "Variables --> lower case\n",
        "\n",
        "CONSTANTS --> UPPER CASE\n"
      ]
    },
    {
      "cell_type": "markdown",
      "metadata": {
        "id": "sGdUkApij60Q"
      },
      "source": [
        "Typical Illegal Names\n",
        "\n",
        "\n",
        "---\n",
        "\n",
        "\n",
        "\n",
        "7Things (starts with a number)\n",
        "\n",
        "Class (reserved word --> check the reserved words)\n",
        "\n",
        "more@ (special character)\n",
        "\n"
      ]
    },
    {
      "cell_type": "code",
      "metadata": {
        "colab": {
          "base_uri": "https://localhost:8080/"
        },
        "id": "IUqnwko-jIWr",
        "outputId": "c3ee068b-c424-46bf-eda0-04b89d98b1ce"
      },
      "source": [
        "type(2)"
      ],
      "execution_count": 1,
      "outputs": [
        {
          "output_type": "execute_result",
          "data": {
            "text/plain": [
              "int"
            ]
          },
          "metadata": {},
          "execution_count": 1
        }
      ]
    },
    {
      "cell_type": "code",
      "metadata": {
        "colab": {
          "base_uri": "https://localhost:8080/"
        },
        "id": "sLzfPorgkXR7",
        "outputId": "47597282-b5e8-4033-cdbe-bd4647551734"
      },
      "source": [
        "type(\"Hello\")"
      ],
      "execution_count": 2,
      "outputs": [
        {
          "output_type": "execute_result",
          "data": {
            "text/plain": [
              "str"
            ]
          },
          "metadata": {},
          "execution_count": 2
        }
      ]
    },
    {
      "cell_type": "code",
      "metadata": {
        "colab": {
          "base_uri": "https://localhost:8080/"
        },
        "id": "F5-HkzEjkY8k",
        "outputId": "0e8c7104-f8cf-4d20-d912-193044f7220d"
      },
      "source": [
        "type(2.3)"
      ],
      "execution_count": 3,
      "outputs": [
        {
          "output_type": "execute_result",
          "data": {
            "text/plain": [
              "float"
            ]
          },
          "metadata": {},
          "execution_count": 3
        }
      ]
    },
    {
      "cell_type": "code",
      "metadata": {
        "colab": {
          "base_uri": "https://localhost:8080/"
        },
        "id": "-D4C19sekax1",
        "outputId": "90d6020e-0701-472c-b274-23deefc820f2"
      },
      "source": [
        "type('17')"
      ],
      "execution_count": 5,
      "outputs": [
        {
          "output_type": "execute_result",
          "data": {
            "text/plain": [
              "str"
            ]
          },
          "metadata": {},
          "execution_count": 5
        }
      ]
    },
    {
      "cell_type": "code",
      "metadata": {
        "colab": {
          "base_uri": "https://localhost:8080/"
        },
        "id": "PeFuYYv_kfRb",
        "outputId": "384f8f9f-580c-4430-a809-a2500d99f79e"
      },
      "source": [
        "1,000,000"
      ],
      "execution_count": 6,
      "outputs": [
        {
          "output_type": "execute_result",
          "data": {
            "text/plain": [
              "(1, 0, 0)"
            ]
          },
          "metadata": {},
          "execution_count": 6
        }
      ]
    },
    {
      "cell_type": "code",
      "metadata": {
        "id": "5LUpkKhvkhQq"
      },
      "source": [
        "type(1,000,000)"
      ],
      "execution_count": null,
      "outputs": []
    },
    {
      "cell_type": "markdown",
      "metadata": {
        "id": "eWwWCAmZkogj"
      },
      "source": [
        "Assignments (attributing content to a variable)\n",
        "\n",
        "[ NO OUTPUT ] "
      ]
    },
    {
      "cell_type": "code",
      "metadata": {
        "id": "Rinwf1sPkr8e"
      },
      "source": [
        "a=2"
      ],
      "execution_count": 8,
      "outputs": []
    },
    {
      "cell_type": "code",
      "metadata": {
        "id": "HwCZMCaWkwWb"
      },
      "source": [
        "b=3.5"
      ],
      "execution_count": 9,
      "outputs": []
    },
    {
      "cell_type": "code",
      "metadata": {
        "id": "LKpobbf1kyEp"
      },
      "source": [
        "c='home'"
      ],
      "execution_count": 11,
      "outputs": []
    },
    {
      "cell_type": "markdown",
      "metadata": {
        "id": "fNaV2yIRk2hF"
      },
      "source": [
        "These are not assignments (will generate output)"
      ]
    },
    {
      "cell_type": "code",
      "metadata": {
        "colab": {
          "base_uri": "https://localhost:8080/"
        },
        "id": "dGM20WNhk6Pz",
        "outputId": "0adde35d-8e10-4103-f6e6-864c6927c761"
      },
      "source": [
        "a*2"
      ],
      "execution_count": 12,
      "outputs": [
        {
          "output_type": "execute_result",
          "data": {
            "text/plain": [
              "4"
            ]
          },
          "metadata": {},
          "execution_count": 12
        }
      ]
    },
    {
      "cell_type": "code",
      "metadata": {
        "colab": {
          "base_uri": "https://localhost:8080/",
          "height": 35
        },
        "id": "pDh-KCdck7q2",
        "outputId": "3eeb3f66-b31d-43f6-c46a-bd88ad9983ba"
      },
      "source": [
        "c.upper()"
      ],
      "execution_count": 13,
      "outputs": [
        {
          "output_type": "execute_result",
          "data": {
            "application/vnd.google.colaboratory.intrinsic+json": {
              "type": "string"
            },
            "text/plain": [
              "'HOME'"
            ]
          },
          "metadata": {},
          "execution_count": 13
        }
      ]
    },
    {
      "cell_type": "markdown",
      "metadata": {
        "id": "Xx9XoSMwlD4b"
      },
      "source": [
        "BOOLEAN \n",
        "\n",
        "True OR False"
      ]
    },
    {
      "cell_type": "code",
      "metadata": {
        "id": "dhoV8NcMlG0A"
      },
      "source": [
        "x =True "
      ],
      "execution_count": 14,
      "outputs": []
    },
    {
      "cell_type": "code",
      "metadata": {
        "colab": {
          "base_uri": "https://localhost:8080/"
        },
        "id": "etlZg-xelI8a",
        "outputId": "f3fd8236-daca-43b1-e0f4-f0e21cf03dcd"
      },
      "source": [
        "x == 2"
      ],
      "execution_count": 15,
      "outputs": [
        {
          "output_type": "execute_result",
          "data": {
            "text/plain": [
              "False"
            ]
          },
          "metadata": {},
          "execution_count": 15
        }
      ]
    },
    {
      "cell_type": "code",
      "metadata": {
        "id": "-hUMv_4olKwx"
      },
      "source": [
        "y = True"
      ],
      "execution_count": 16,
      "outputs": []
    },
    {
      "cell_type": "code",
      "metadata": {
        "colab": {
          "base_uri": "https://localhost:8080/"
        },
        "id": "bf237dZAlMEG",
        "outputId": "22cf22f2-3903-469b-f137-55d9f295524f"
      },
      "source": [
        "x == y"
      ],
      "execution_count": 17,
      "outputs": [
        {
          "output_type": "execute_result",
          "data": {
            "text/plain": [
              "True"
            ]
          },
          "metadata": {},
          "execution_count": 17
        }
      ]
    },
    {
      "cell_type": "code",
      "metadata": {
        "id": "dC3fAkpclNtu"
      },
      "source": [
        "z = False"
      ],
      "execution_count": 18,
      "outputs": []
    },
    {
      "cell_type": "code",
      "metadata": {
        "colab": {
          "base_uri": "https://localhost:8080/"
        },
        "id": "z_7-gAknlP98",
        "outputId": "a7d387df-e6fe-4e12-e628-9a66f8d9c73f"
      },
      "source": [
        "x == z"
      ],
      "execution_count": 19,
      "outputs": [
        {
          "output_type": "execute_result",
          "data": {
            "text/plain": [
              "False"
            ]
          },
          "metadata": {},
          "execution_count": 19
        }
      ]
    },
    {
      "cell_type": "markdown",
      "metadata": {
        "id": "mY5oHAd6lUsF"
      },
      "source": [
        "OPERATORS\n",
        "\n",
        "Arithmetic\n",
        "\n",
        " + - * / // ** %\n",
        "\n",
        "Comparison\n",
        "\n",
        " == != > < >= <=\n",
        "\n",
        "Membership\n",
        "\n",
        " in\n",
        "\n",
        "‘h’ in c\n",
        "‘Home’ in c\n",
        "\n",
        "Logic\n",
        "\n",
        " AND OR NOT\n",
        "\n",
        "x and y\n",
        "x and z\n",
        "\n"
      ]
    },
    {
      "cell_type": "markdown",
      "metadata": {
        "id": "OBfbKr8Ml_dI"
      },
      "source": [
        "OPERATORS\n",
        "\n",
        "ASSIGNMENT\n",
        "\n"
      ]
    },
    {
      "cell_type": "code",
      "metadata": {
        "id": "T-OaMAWbmDbX"
      },
      "source": [
        "w = 5"
      ],
      "execution_count": 2,
      "outputs": []
    },
    {
      "cell_type": "code",
      "metadata": {
        "id": "-Wt1ZVF8mFFW"
      },
      "source": [
        "w += 5 # w = w + 5"
      ],
      "execution_count": 22,
      "outputs": []
    },
    {
      "cell_type": "code",
      "metadata": {
        "id": "IkdGmWXL7sNY"
      },
      "source": [
        "w -= 2 # w = w -2"
      ],
      "execution_count": null,
      "outputs": []
    },
    {
      "cell_type": "code",
      "metadata": {
        "id": "MCrLrdhm04_1"
      },
      "source": [
        "w *= 3 # w = w * 3"
      ],
      "execution_count": 3,
      "outputs": []
    },
    {
      "cell_type": "code",
      "metadata": {
        "id": "1jIfoBCe1Ad6"
      },
      "source": [
        "w /= 4 # w = w/4"
      ],
      "execution_count": 4,
      "outputs": []
    },
    {
      "cell_type": "markdown",
      "metadata": {
        "id": "FfH3-Iw_1NwL"
      },
      "source": [
        "Pay attention to \n",
        "\n",
        "- Order of operators\n",
        "\n",
        "- Comments with #\n"
      ]
    },
    {
      "cell_type": "markdown",
      "metadata": {
        "id": "Y4VCeN2H1Hmq"
      },
      "source": [
        "STRING MANIPULATION"
      ]
    },
    {
      "cell_type": "code",
      "metadata": {
        "id": "r5IPgYWv1UTm"
      },
      "source": [
        "word = 'Python'"
      ],
      "execution_count": 6,
      "outputs": []
    },
    {
      "cell_type": "code",
      "metadata": {
        "colab": {
          "base_uri": "https://localhost:8080/",
          "height": 35
        },
        "id": "lTyr-q6y1XQ6",
        "outputId": "5f9412b7-7010-4ec3-f73b-66e307938be2"
      },
      "source": [
        "word[0]"
      ],
      "execution_count": 7,
      "outputs": [
        {
          "output_type": "execute_result",
          "data": {
            "application/vnd.google.colaboratory.intrinsic+json": {
              "type": "string"
            },
            "text/plain": [
              "'P'"
            ]
          },
          "metadata": {},
          "execution_count": 7
        }
      ]
    },
    {
      "cell_type": "code",
      "metadata": {
        "colab": {
          "base_uri": "https://localhost:8080/",
          "height": 35
        },
        "id": "LUqw8Tsf1ckG",
        "outputId": "ea08942d-369e-49db-edcf-7950e4851bb9"
      },
      "source": [
        "word[-1]"
      ],
      "execution_count": 8,
      "outputs": [
        {
          "output_type": "execute_result",
          "data": {
            "application/vnd.google.colaboratory.intrinsic+json": {
              "type": "string"
            },
            "text/plain": [
              "'n'"
            ]
          },
          "metadata": {},
          "execution_count": 8
        }
      ]
    },
    {
      "cell_type": "code",
      "metadata": {
        "colab": {
          "base_uri": "https://localhost:8080/"
        },
        "id": "dr2l_E_V1f6B",
        "outputId": "3a0da6a2-e49d-4b56-bdfd-8a7fea9bea6b"
      },
      "source": [
        "len(word)"
      ],
      "execution_count": 9,
      "outputs": [
        {
          "output_type": "execute_result",
          "data": {
            "text/plain": [
              "6"
            ]
          },
          "metadata": {},
          "execution_count": 9
        }
      ]
    },
    {
      "cell_type": "code",
      "metadata": {
        "colab": {
          "base_uri": "https://localhost:8080/",
          "height": 35
        },
        "id": "zrg1sVGM1h8p",
        "outputId": "c42e9b00-252d-4914-e448-f07f129805d7"
      },
      "source": [
        "word.upper()"
      ],
      "execution_count": 10,
      "outputs": [
        {
          "output_type": "execute_result",
          "data": {
            "application/vnd.google.colaboratory.intrinsic+json": {
              "type": "string"
            },
            "text/plain": [
              "'PYTHON'"
            ]
          },
          "metadata": {},
          "execution_count": 10
        }
      ]
    },
    {
      "cell_type": "markdown",
      "metadata": {
        "id": "gzHOJilp1l7_"
      },
      "source": [
        "ARRAYS (lists)"
      ]
    },
    {
      "cell_type": "code",
      "metadata": {
        "id": "y8lZcR7U1nRT"
      },
      "source": [
        "squares = [1,4,9,16,25]"
      ],
      "execution_count": 11,
      "outputs": []
    },
    {
      "cell_type": "code",
      "metadata": {
        "colab": {
          "base_uri": "https://localhost:8080/"
        },
        "id": "mDTA9C5O1q2W",
        "outputId": "cf1fc043-5416-4873-8580-a89a80e97323"
      },
      "source": [
        "squares"
      ],
      "execution_count": 12,
      "outputs": [
        {
          "output_type": "execute_result",
          "data": {
            "text/plain": [
              "[1, 4, 9, 16, 25]"
            ]
          },
          "metadata": {},
          "execution_count": 12
        }
      ]
    },
    {
      "cell_type": "code",
      "metadata": {
        "colab": {
          "base_uri": "https://localhost:8080/"
        },
        "id": "kS6a7Vmr1sTW",
        "outputId": "71aa35c0-ba69-4963-9436-b0f1ba12820f"
      },
      "source": [
        "squares[2]"
      ],
      "execution_count": 13,
      "outputs": [
        {
          "output_type": "execute_result",
          "data": {
            "text/plain": [
              "9"
            ]
          },
          "metadata": {},
          "execution_count": 13
        }
      ]
    },
    {
      "cell_type": "code",
      "metadata": {
        "colab": {
          "base_uri": "https://localhost:8080/"
        },
        "id": "MATta9uF16-5",
        "outputId": "00b9adbd-a91d-45b1-93b7-6aea6f556c96"
      },
      "source": [
        "squares[-1]"
      ],
      "execution_count": 14,
      "outputs": [
        {
          "output_type": "execute_result",
          "data": {
            "text/plain": [
              "25"
            ]
          },
          "metadata": {},
          "execution_count": 14
        }
      ]
    },
    {
      "cell_type": "code",
      "metadata": {
        "colab": {
          "base_uri": "https://localhost:8080/"
        },
        "id": "_PDYduYC19Cu",
        "outputId": "7d4a94db-dacd-470c-e2fb-f46bc59022b1"
      },
      "source": [
        "squares[0]"
      ],
      "execution_count": 16,
      "outputs": [
        {
          "output_type": "execute_result",
          "data": {
            "text/plain": [
              "1"
            ]
          },
          "metadata": {},
          "execution_count": 16
        }
      ]
    },
    {
      "cell_type": "code",
      "metadata": {
        "colab": {
          "base_uri": "https://localhost:8080/"
        },
        "id": "hGoGhVZy2BF1",
        "outputId": "7bce1d24-4091-46b6-9212-ce08daf39ce9"
      },
      "source": [
        "squares + [36]"
      ],
      "execution_count": 17,
      "outputs": [
        {
          "output_type": "execute_result",
          "data": {
            "text/plain": [
              "[1, 4, 9, 16, 25, 36]"
            ]
          },
          "metadata": {},
          "execution_count": 17
        }
      ]
    },
    {
      "cell_type": "code",
      "metadata": {
        "colab": {
          "base_uri": "https://localhost:8080/"
        },
        "id": "gnJSjlFW2Ek7",
        "outputId": "4258ad32-15f3-4303-e5a7-003b972c3e5e"
      },
      "source": [
        "squares"
      ],
      "execution_count": 18,
      "outputs": [
        {
          "output_type": "execute_result",
          "data": {
            "text/plain": [
              "[1, 4, 9, 16, 25]"
            ]
          },
          "metadata": {},
          "execution_count": 18
        }
      ]
    },
    {
      "cell_type": "markdown",
      "metadata": {
        "id": "A0VbkbJg2IWB"
      },
      "source": [
        "MORE ARRAYS (lists)"
      ]
    },
    {
      "cell_type": "code",
      "metadata": {
        "id": "80zI85ZI2KYg"
      },
      "source": [
        "cubes = [1,8,27,65]"
      ],
      "execution_count": 19,
      "outputs": []
    },
    {
      "cell_type": "code",
      "metadata": {
        "colab": {
          "base_uri": "https://localhost:8080/"
        },
        "id": "CiWQMeYN2NIH",
        "outputId": "26c06aef-305a-448d-d318-59a7c2a0f337"
      },
      "source": [
        "cubes[3]"
      ],
      "execution_count": 20,
      "outputs": [
        {
          "output_type": "execute_result",
          "data": {
            "text/plain": [
              "65"
            ]
          },
          "metadata": {},
          "execution_count": 20
        }
      ]
    },
    {
      "cell_type": "code",
      "metadata": {
        "id": "WpKy79Xp2OpJ"
      },
      "source": [
        "cubes[3] = 64"
      ],
      "execution_count": 21,
      "outputs": []
    },
    {
      "cell_type": "code",
      "metadata": {
        "id": "mVXBA-5u59oV"
      },
      "source": [
        "cubes.append(215)"
      ],
      "execution_count": 22,
      "outputs": []
    },
    {
      "cell_type": "code",
      "metadata": {
        "id": "zYcSABZh5_l3"
      },
      "source": [
        "cubes.append(6**3)"
      ],
      "execution_count": 23,
      "outputs": []
    },
    {
      "cell_type": "code",
      "metadata": {
        "colab": {
          "base_uri": "https://localhost:8080/"
        },
        "id": "jmUDR7Ju6DrP",
        "outputId": "c4a14677-22e2-41fd-9d95-221c61f0ad81"
      },
      "source": [
        "cubes"
      ],
      "execution_count": 24,
      "outputs": [
        {
          "output_type": "execute_result",
          "data": {
            "text/plain": [
              "[1, 8, 27, 64, 215, 216]"
            ]
          },
          "metadata": {},
          "execution_count": 24
        }
      ]
    },
    {
      "cell_type": "markdown",
      "metadata": {
        "id": "6ow0nYAb6HaX"
      },
      "source": [
        "MORE ARRAYS (lists)"
      ]
    },
    {
      "cell_type": "code",
      "metadata": {
        "id": "zETbStwn6I0V"
      },
      "source": [
        "letters = ['a', 'b', 'c', 'd', 'e', 'f', 'g']"
      ],
      "execution_count": 25,
      "outputs": []
    },
    {
      "cell_type": "code",
      "metadata": {
        "colab": {
          "base_uri": "https://localhost:8080/"
        },
        "id": "ncarzTdO6QzJ",
        "outputId": "8e9b4c15-71f1-42dc-d98c-58e5019922f9"
      },
      "source": [
        "letters"
      ],
      "execution_count": 26,
      "outputs": [
        {
          "output_type": "execute_result",
          "data": {
            "text/plain": [
              "['a', 'b', 'c', 'd', 'e', 'f', 'g']"
            ]
          },
          "metadata": {},
          "execution_count": 26
        }
      ]
    },
    {
      "cell_type": "code",
      "metadata": {
        "id": "VATr1hNt6TH2"
      },
      "source": [
        "letters[2:4] = ['C', 'D']"
      ],
      "execution_count": 27,
      "outputs": []
    },
    {
      "cell_type": "code",
      "metadata": {
        "colab": {
          "base_uri": "https://localhost:8080/"
        },
        "id": "xIoAw49f6Wpu",
        "outputId": "80a69498-f22d-403c-bc2e-7d1bced0a166"
      },
      "source": [
        "letters"
      ],
      "execution_count": 28,
      "outputs": [
        {
          "output_type": "execute_result",
          "data": {
            "text/plain": [
              "['a', 'b', 'C', 'D', 'e', 'f', 'g']"
            ]
          },
          "metadata": {},
          "execution_count": 28
        }
      ]
    },
    {
      "cell_type": "code",
      "metadata": {
        "id": "Nyew2FiT6X0n"
      },
      "source": [
        "letters[2:4]=[]"
      ],
      "execution_count": 29,
      "outputs": []
    },
    {
      "cell_type": "code",
      "metadata": {
        "colab": {
          "base_uri": "https://localhost:8080/"
        },
        "id": "3SyoSNMB6a8q",
        "outputId": "2b990e07-dfec-440c-f70a-3d62dec4a12b"
      },
      "source": [
        "letters"
      ],
      "execution_count": 30,
      "outputs": [
        {
          "output_type": "execute_result",
          "data": {
            "text/plain": [
              "['a', 'b', 'e', 'f', 'g']"
            ]
          },
          "metadata": {},
          "execution_count": 30
        }
      ]
    },
    {
      "cell_type": "code",
      "metadata": {
        "id": "rvcKkAZk6dxt"
      },
      "source": [
        "letters[:]=[]"
      ],
      "execution_count": 31,
      "outputs": []
    },
    {
      "cell_type": "code",
      "metadata": {
        "colab": {
          "base_uri": "https://localhost:8080/"
        },
        "id": "DI_qDQZF6fwR",
        "outputId": "cb1c8ec1-8e79-40c2-abd9-92b2904ea50d"
      },
      "source": [
        "letters"
      ],
      "execution_count": 32,
      "outputs": [
        {
          "output_type": "execute_result",
          "data": {
            "text/plain": [
              "[]"
            ]
          },
          "metadata": {},
          "execution_count": 32
        }
      ]
    },
    {
      "cell_type": "code",
      "metadata": {
        "colab": {
          "base_uri": "https://localhost:8080/"
        },
        "id": "tOEKQrD-6h_N",
        "outputId": "a7a481e5-3e88-4e64-f6da-d31154a384ac"
      },
      "source": [
        "len(letters)"
      ],
      "execution_count": 33,
      "outputs": [
        {
          "output_type": "execute_result",
          "data": {
            "text/plain": [
              "0"
            ]
          },
          "metadata": {},
          "execution_count": 33
        }
      ]
    },
    {
      "cell_type": "markdown",
      "metadata": {
        "id": "6lFEsyRc6k7F"
      },
      "source": [
        "NESTED LISTS - MATRIX"
      ]
    },
    {
      "cell_type": "code",
      "metadata": {
        "colab": {
          "base_uri": "https://localhost:8080/"
        },
        "id": "9_LgyTbY6mid",
        "outputId": "eeb304da-bbf4-4558-b218-7fca51dfe83e"
      },
      "source": [
        "a = ['a', 'b', 'c']\n",
        "n = [1,2,3]\n",
        "x=[a,n]\n",
        "x"
      ],
      "execution_count": 34,
      "outputs": [
        {
          "output_type": "execute_result",
          "data": {
            "text/plain": [
              "[['a', 'b', 'c'], [1, 2, 3]]"
            ]
          },
          "metadata": {},
          "execution_count": 34
        }
      ]
    },
    {
      "cell_type": "code",
      "metadata": {
        "colab": {
          "base_uri": "https://localhost:8080/"
        },
        "id": "nKfQiRO-6wj5",
        "outputId": "a73f1edc-dc5e-4fa9-e7a2-c71f3bd96f3e"
      },
      "source": [
        "x[0]"
      ],
      "execution_count": 35,
      "outputs": [
        {
          "output_type": "execute_result",
          "data": {
            "text/plain": [
              "['a', 'b', 'c']"
            ]
          },
          "metadata": {},
          "execution_count": 35
        }
      ]
    },
    {
      "cell_type": "code",
      "metadata": {
        "colab": {
          "base_uri": "https://localhost:8080/",
          "height": 35
        },
        "id": "rUD5fxgI6yLz",
        "outputId": "cc442849-d17f-4a12-b8df-3b4eea4e0e3c"
      },
      "source": [
        "x[0][1]"
      ],
      "execution_count": 36,
      "outputs": [
        {
          "output_type": "execute_result",
          "data": {
            "application/vnd.google.colaboratory.intrinsic+json": {
              "type": "string"
            },
            "text/plain": [
              "'b'"
            ]
          },
          "metadata": {},
          "execution_count": 36
        }
      ]
    },
    {
      "cell_type": "markdown",
      "metadata": {
        "id": "f6CPM8oX67EH"
      },
      "source": [
        "NESTED LISTS - MATRIX (more...)"
      ]
    },
    {
      "cell_type": "code",
      "metadata": {
        "id": "V3xF3JIv68-z"
      },
      "source": [
        "m=[[1,2,3],[4,5,6]]"
      ],
      "execution_count": 37,
      "outputs": []
    },
    {
      "cell_type": "code",
      "metadata": {
        "colab": {
          "base_uri": "https://localhost:8080/"
        },
        "id": "8fca9ec-7Bsc",
        "outputId": "af0c1589-eead-4ff4-9f4a-4b0df5b88eb0"
      },
      "source": [
        "m[0][1]"
      ],
      "execution_count": 40,
      "outputs": [
        {
          "output_type": "execute_result",
          "data": {
            "text/plain": [
              "2"
            ]
          },
          "metadata": {},
          "execution_count": 40
        }
      ]
    },
    {
      "cell_type": "code",
      "metadata": {
        "colab": {
          "base_uri": "https://localhost:8080/"
        },
        "id": "n6kbYOUh7GAl",
        "outputId": "b455ae93-d276-4b8b-f095-526da9581b95"
      },
      "source": [
        "m[0][2]"
      ],
      "execution_count": 41,
      "outputs": [
        {
          "output_type": "execute_result",
          "data": {
            "text/plain": [
              "3"
            ]
          },
          "metadata": {},
          "execution_count": 41
        }
      ]
    },
    {
      "cell_type": "code",
      "metadata": {
        "colab": {
          "base_uri": "https://localhost:8080/"
        },
        "id": "vTH44glT7PAz",
        "outputId": "f7517a7d-89e6-4a28-d3bd-c61bf752625f"
      },
      "source": [
        "m[0][0]"
      ],
      "execution_count": 42,
      "outputs": [
        {
          "output_type": "execute_result",
          "data": {
            "text/plain": [
              "1"
            ]
          },
          "metadata": {},
          "execution_count": 42
        }
      ]
    },
    {
      "cell_type": "code",
      "metadata": {
        "colab": {
          "base_uri": "https://localhost:8080/"
        },
        "id": "S9ru4MIa7UwL",
        "outputId": "08c1e912-1914-4073-c1f2-9729f80f8103"
      },
      "source": [
        "m[0],[1]"
      ],
      "execution_count": 43,
      "outputs": [
        {
          "output_type": "execute_result",
          "data": {
            "text/plain": [
              "([1, 2, 3], [1])"
            ]
          },
          "metadata": {},
          "execution_count": 43
        }
      ]
    }
  ]
}