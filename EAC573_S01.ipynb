{
  "nbformat": 4,
  "nbformat_minor": 0,
  "metadata": {
    "colab": {
      "name": "Untitled5.ipynb",
      "provenance": [],
      "collapsed_sections": [],
      "authorship_tag": "ABX9TyNsc67NmTc/Vte+PdvVifIg"
    },
    "kernelspec": {
      "name": "python3",
      "display_name": "Python 3"
    },
    "language_info": {
      "name": "python"
    }
  },
  "cells": [
    {
      "cell_type": "markdown",
      "metadata": {
        "id": "rGNmnO4ULU3a"
      },
      "source": [
        "Example of Python coding in COLAB"
      ]
    },
    {
      "cell_type": "code",
      "metadata": {
        "colab": {
          "base_uri": "https://localhost:8080/"
        },
        "id": "2Z8G88h9G4tc",
        "outputId": "5e8045d8-106c-422e-834f-6eadabf776fb"
      },
      "source": [
        "print(\"hello\")"
      ],
      "execution_count": 37,
      "outputs": [
        {
          "output_type": "stream",
          "name": "stdout",
          "text": [
            "hello\n"
          ]
        }
      ]
    },
    {
      "cell_type": "code",
      "metadata": {
        "id": "JQMFjp9UMFLt"
      },
      "source": [
        ""
      ],
      "execution_count": null,
      "outputs": []
    },
    {
      "cell_type": "code",
      "metadata": {
        "colab": {
          "base_uri": "https://localhost:8080/"
        },
        "id": "vVVmF_QbMFNs",
        "outputId": "8d55e22c-64af-4a20-ae39-95a18b05942d"
      },
      "source": [
        "#Title of this code is XXYY\n",
        "import random\n",
        "print(random.randint(2,6))"
      ],
      "execution_count": 28,
      "outputs": [
        {
          "output_type": "stream",
          "name": "stdout",
          "text": [
            "3\n"
          ]
        }
      ]
    },
    {
      "cell_type": "code",
      "metadata": {
        "colab": {
          "base_uri": "https://localhost:8080/"
        },
        "id": "GTJIl23xLS47",
        "outputId": "dd52d35d-d987-46a5-ed52-e1e15ae91161"
      },
      "source": [
        "2**8"
      ],
      "execution_count": 31,
      "outputs": [
        {
          "output_type": "execute_result",
          "data": {
            "text/plain": [
              "256"
            ]
          },
          "metadata": {},
          "execution_count": 31
        }
      ]
    },
    {
      "cell_type": "code",
      "metadata": {
        "id": "8EkITysZNfLy"
      },
      "source": [
        "!pip freeze"
      ],
      "execution_count": null,
      "outputs": []
    }
  ]
}
