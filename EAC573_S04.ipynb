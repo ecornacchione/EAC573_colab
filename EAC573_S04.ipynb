{
  "nbformat": 4,
  "nbformat_minor": 0,
  "metadata": {
    "colab": {
      "name": "EAC573_S04.ipynb",
      "provenance": [],
      "collapsed_sections": [],
      "authorship_tag": "ABX9TyPe8SfWJjDTNZeKA1guzLxk"
    },
    "kernelspec": {
      "name": "python3",
      "display_name": "Python 3"
    },
    "language_info": {
      "name": "python"
    }
  },
  "cells": [
    {
      "cell_type": "markdown",
      "metadata": {
        "id": "dHfoDIG3jJSf"
      },
      "source": [
        "EAC 573 S04 - Python coding in *COLAB*\n",
        "\n",
        "Flow Control"
      ]
    },
    {
      "cell_type": "markdown",
      "metadata": {
        "id": "iBCk9BF2jZAM"
      },
      "source": [
        "Flow Control\n",
        "---\n",
        "Not just a single sequence\n",
        "\n",
        "(from TOP to BOTTOM)\n",
        "\n",
        "but,\n",
        "\n",
        "DECISION (!)"
      ]
    },
    {
      "cell_type": "markdown",
      "metadata": {
        "id": "NWKUqIXE_VQA"
      },
      "source": [
        "IF\n",
        "\n",
        "CONDITION\n",
        "\n",
        "Expression or Test\n",
        "\n",
        "BOOLEAN T or F\n",
        "\n",
        "Actions\n",
        "\n",
        "-----\n",
        "\n",
        "if expression:\n",
        "\n",
        "  statements\n",
        "\n",
        "else:\n",
        "\n",
        "  statements\n",
        "\n",
        "\n",
        "  --> CAUTION: indentation!"
      ]
    },
    {
      "cell_type": "markdown",
      "metadata": {
        "id": "dLIc2lI3_0rM"
      },
      "source": [
        "Equals: a == b\n",
        "\n",
        "Not Equals: a != b\n",
        "\n",
        "Less than: a < b\n",
        "\n",
        "Less than or equal to: a <= b\n",
        "\n",
        "Greater than: a > b\n",
        "\n",
        "Greater than or equal to: a >= b\n"
      ]
    },
    {
      "cell_type": "code",
      "metadata": {
        "colab": {
          "base_uri": "https://localhost:8080/"
        },
        "id": "D82flZEr_tHm",
        "outputId": "edd164da-4b78-4e3d-f2b5-57b715c03719"
      },
      "source": [
        "# Example\n",
        "x = 52\n",
        "y = 400\n",
        "if y > x:\n",
        "  print(\"y is greater than x\")"
      ],
      "execution_count": 1,
      "outputs": [
        {
          "output_type": "stream",
          "name": "stdout",
          "text": [
            "y is greater than x\n"
          ]
        }
      ]
    },
    {
      "cell_type": "code",
      "metadata": {
        "colab": {
          "base_uri": "https://localhost:8080/"
        },
        "id": "hxxkUqPZAG2I",
        "outputId": "3c421d8f-576b-4f79-80eb-2ab56fdab0b3"
      },
      "source": [
        "#Single line\n",
        "if y > x: print(\"result\")"
      ],
      "execution_count": 3,
      "outputs": [
        {
          "output_type": "stream",
          "name": "stdout",
          "text": [
            "result\n"
          ]
        }
      ]
    },
    {
      "cell_type": "code",
      "metadata": {
        "colab": {
          "base_uri": "https://localhost:8080/"
        },
        "id": "SlU7Ie0UAR1_",
        "outputId": "83f84d54-0545-4dcd-aa2a-1b1de1b4677c"
      },
      "source": [
        "#Single line 2\n",
        "print(y) if y > x else print(x)"
      ],
      "execution_count": 4,
      "outputs": [
        {
          "output_type": "stream",
          "name": "stdout",
          "text": [
            "400\n"
          ]
        }
      ]
    },
    {
      "cell_type": "code",
      "metadata": {
        "id": "BRkhMA-1AbCd"
      },
      "source": [
        "# Pass Example\n",
        "x = 52\n",
        "y = 400\n",
        "if y > x:\n",
        "  pass"
      ],
      "execution_count": 5,
      "outputs": []
    },
    {
      "cell_type": "code",
      "metadata": {
        "colab": {
          "base_uri": "https://localhost:8080/"
        },
        "id": "ufYdorub_chf",
        "outputId": "c53ee8a8-a02c-4bc4-b9b1-b0db6b494af1"
      },
      "source": [
        "# LPBProgram02.py\n",
        "\n",
        "nV1 = 10\n",
        "\n",
        "nV2 = 20\n",
        "\n",
        "if nV1>nV2:\n",
        "  print(\"nv1 maior\")\n",
        "else:\n",
        "  print(\"nV2 maior\")\n",
        "\n"
      ],
      "execution_count": 6,
      "outputs": [
        {
          "output_type": "stream",
          "name": "stdout",
          "text": [
            "nV2 maior\n"
          ]
        }
      ]
    },
    {
      "cell_type": "code",
      "metadata": {
        "colab": {
          "base_uri": "https://localhost:8080/"
        },
        "id": "5RwcrBq1AEr5",
        "outputId": "8f98bfdb-a58d-477d-bebf-54a57a9846cf"
      },
      "source": [
        "# LPBProgram03.py\n",
        "\n",
        "import random\n",
        "nRandom = random.randint(0,9)\n",
        "nUser = int(input(\"Inform a number from 0 to 9:\"))\n",
        "if nUser == nRandom:\n",
        "  print(\"Got it!\")\n",
        "else:\n",
        "  print(\"try again...\")\n",
        "\n",
        "print(nUser, \"and\", nRandom)\n"
      ],
      "execution_count": 14,
      "outputs": [
        {
          "output_type": "stream",
          "name": "stdout",
          "text": [
            "Inform a number from 0 to 9:7\n",
            "try again...\n",
            "7 and 5\n"
          ]
        }
      ]
    },
    {
      "cell_type": "markdown",
      "metadata": {
        "id": "kENUc_xFAlSd"
      },
      "source": [
        ""
      ]
    },
    {
      "cell_type": "markdown",
      "metadata": {
        "id": "I7JTkP3LAl8Y"
      },
      "source": [
        "IF ... ELIF ... ELSE\n"
      ]
    },
    {
      "cell_type": "markdown",
      "metadata": {
        "id": "66sQephR6yL6"
      },
      "source": [
        "-Program-Exercise 06 (pe06.py)\n",
        "\n",
        "Indicates Even or Odd, given user input of an integer\n",
        "\n",
        "-Program-Exercise 07 (pe07.py)\n",
        "\n",
        "Indicates Vowel or Consonant, given user input of a letter\n",
        "\n",
        "-Program-Exercise 08 (pe08.py)\n",
        "\n",
        "Number of days, given user input of a month as a string\n",
        "\n",
        "-Program-Exercise 09 (pe09.py)\n",
        "\n",
        "Indicate whether an user input number from 0 to 9 (integer) is between 5 and 8 (including 5 and 8)\n",
        "\n",
        "-Program Exercise 10 (pe10.py)\n",
        "\n",
        "(US 2020 Single) Tax rate, given user input of income (as float) and the IRS Table (** PLEASE don't use from the slides -it is from 2016, search on your own!)\n"
      ]
    }
  ]
}